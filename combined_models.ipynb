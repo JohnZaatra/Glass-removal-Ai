{
 "cells": [
  {
   "cell_type": "code",
   "execution_count": 1,
   "metadata": {},
   "outputs": [],
   "source": [
    "import torch\n",
    "import torch.nn as nn\n",
    "import torch.nn.functional as F\n",
    "from torchvision import transforms\n",
    "import torchvision.models as models\n",
    "from torchvision.models import ResNet50_Weights, resnet50\n",
    "import torch.optim as optim\n",
    "from torch.utils.data import DataLoader, TensorDataset, Dataset, random_split\n",
    "\n",
    "from PIL import Image\n",
    "import glob\n",
    "import os\n",
    "import random\n",
    "\n",
    "import pandas as pd\n",
    "import numpy as np\n",
    "from sklearn.preprocessing import StandardScaler, LabelEncoder\n",
    "from sklearn.model_selection import train_test_split\n",
    "\n",
    "# Check if GPU is available\n",
    "device = torch.device(\"cuda\" if torch.cuda.is_available() else \"cpu\")"
   ]
  },
  {
   "cell_type": "code",
   "execution_count": 2,
   "metadata": {},
   "outputs": [
    {
     "name": "stdout",
     "output_type": "stream",
     "text": [
      "Let's use 3 GPUs!\n"
     ]
    }
   ],
   "source": [
    "# # Load the CNN model (ResNet-50)\n",
    "# resnet_model = models.resnet50(weights=ResNet50_Weights.DEFAULT)\n",
    "# num_features = resnet_model.fc.in_features\n",
    "# resnet_model.fc = nn.Linear(resnet_model.fc.in_features, 1)  # Modify the final layer for regression (1 output)\n",
    "# # resnet_model.fc = nn.Identity()\n",
    "\n",
    "# resnet_model = nn.DataParallel(resnet_model)  \n",
    "\n",
    "# # Load your pre-trained ResNet-50 model\n",
    "# resnet_model.load_state_dict(torch.load('/home/janz/PROJECT/trained_models/cnn_model.pth'))\n",
    "# resnet_model.to(device)\n",
    "# resnet_model.eval()  # Set model to evaluation mode\n",
    "\n",
    "# Define the ResNet model with separate layer processing\n",
    "class ResNetModel(nn.Module):\n",
    "    def __init__(self):\n",
    "        super(ResNetModel, self).__init__()\n",
    "        self.resnet = resnet50(weights=ResNet50_Weights.DEFAULT)  # Load pretrained ResNet-50\n",
    "        self.resnet.fc = nn.Linear(self.resnet.fc.in_features, 1)  # Modify final layer for regression (1 output)\n",
    "        self.feature_extractor = nn.Linear(self.resnet.fc.in_features, 15)  # Feature extraction layer\n",
    "\n",
    "    def forward(self, x):\n",
    "        # Pass input through ResNet layers individually\n",
    "        x = self.resnet.conv1(x)\n",
    "        x = self.resnet.bn1(x)\n",
    "        x = self.resnet.relu(x)\n",
    "        x = self.resnet.maxpool(x)\n",
    "\n",
    "        x = self.resnet.layer1(x)\n",
    "        x = self.resnet.layer2(x)\n",
    "        x = self.resnet.layer3(x)\n",
    "        x = self.resnet.layer4(x)\n",
    "\n",
    "        # Apply global average pooling (or other pooling method)\n",
    "        x = self.resnet.avgpool(x)\n",
    "        x = torch.flatten(x, 1)  # Flatten to 2D (batch_size, 2048)\n",
    "\n",
    "        # Feature extraction layer\n",
    "        features = self.feature_extractor(x)\n",
    "\n",
    "        # Final output\n",
    "        output = self.resnet.fc(x)\n",
    "\n",
    "        return features, output\n",
    "\n",
    "# Load the pre-trained ResNet-50 model\n",
    "resnet_model = ResNetModel().to(device)\n",
    "\n",
    "# Load your pre-trained ResNet-50 model weights\n",
    "resnet_model.load_state_dict(torch.load('/home/janz/PROJECT/trained_models/cnn_model.pth'))\n",
    "resnet_model.eval()  # Set model to evaluation mode\n",
    "\n",
    "# Wrap the model with DataParallel if using multiple GPUs\n",
    "if torch.cuda.device_count() > 1:\n",
    "    print(\"Let's use\", torch.cuda.device_count(), \"GPUs!\")\n",
    "    resnet_model = nn.DataParallel(resnet_model)\n"
   ]
  },
  {
   "cell_type": "code",
   "execution_count": 3,
   "metadata": {},
   "outputs": [
    {
     "data": {
      "text/plain": [
       "MLPModel(\n",
       "  (fc1): Linear(in_features=25, out_features=64, bias=True)\n",
       "  (dropout1): Dropout(p=0.185, inplace=False)\n",
       "  (fc2): Linear(in_features=64, out_features=128, bias=True)\n",
       "  (dropout2): Dropout(p=0.185, inplace=False)\n",
       "  (fc3): Linear(in_features=128, out_features=256, bias=True)\n",
       "  (dropout3): Dropout(p=0.185, inplace=False)\n",
       "  (fc4): Linear(in_features=256, out_features=128, bias=True)\n",
       "  (dropout4): Dropout(p=0.185, inplace=False)\n",
       "  (fc5): Linear(in_features=128, out_features=64, bias=True)\n",
       "  (fc6): Linear(in_features=64, out_features=1, bias=True)\n",
       "  (feature_extractor): Linear(in_features=64, out_features=64, bias=True)\n",
       ")"
      ]
     },
     "execution_count": 3,
     "metadata": {},
     "output_type": "execute_result"
    }
   ],
   "source": [
    "# Define the MLP model (should match the previously defined MLP architecture)\n",
    "# class MLPModel(nn.Module):\n",
    "#     def __init__(self):\n",
    "#         super(MLPModel, self).__init__()\n",
    "#         self.fc1 = nn.Linear(25, 100)\n",
    "#         self.dropout1 = nn.Dropout(0.2)\n",
    "#         self.fc2 = nn.Linear(100, 100)\n",
    "#         self.dropout2 = nn.Dropout(0.2)\n",
    "#         self.fc3 = nn.Linear(100, 30)\n",
    "#         self.fc4 = nn.Linear(30, 1)\n",
    "#         self.feature_extractor = nn.Linear(30, 30)  # Feature extraction layer\n",
    "\n",
    "#     def forward(self, x):\n",
    "#         x = F.relu(self.fc1(x))\n",
    "#         x = self.dropout1(x)\n",
    "#         x = F.relu(self.fc2(x))\n",
    "#         x = self.dropout2(x)\n",
    "#         x = F.relu(self.fc3(x))\n",
    "#         features = self.feature_extractor(x)  # Extract intermediate features\n",
    "#         output = self.fc4(x)\n",
    "#         return features, output\n",
    "\n",
    "# # Define the MLP model (should match the previously defined MLP architecture)\n",
    "class MLPModel(nn.Module):\n",
    "    def __init__(self):\n",
    "        super(MLPModel, self).__init__()\n",
    "        self.fc1 = nn.Linear(25, 64)  # Increased neurons\n",
    "        self.dropout1 = nn.Dropout(0.185)\n",
    "        self.fc2 = nn.Linear(64, 128)  # Increased neurons\n",
    "        self.dropout2 = nn.Dropout(0.185)\n",
    "        self.fc3 = nn.Linear(128, 256)  # Increased neurons\n",
    "        self.dropout3 = nn.Dropout(0.185)\n",
    "        self.fc4 = nn.Linear(256, 128)  # Increased neurons\n",
    "        self.dropout4 = nn.Dropout(0.185)\n",
    "        self.fc5 = nn.Linear(128, 64)  # Increased neurons\n",
    "        self.fc6 = nn.Linear(64, 1)\n",
    "        self.feature_extractor = nn.Linear(64, 64)\n",
    "\n",
    "    def forward(self, x):\n",
    "        x = F.relu(self.fc1(x))\n",
    "        x = self.dropout1(x)\n",
    "        x = F.relu(self.fc2(x))\n",
    "        x = self.dropout2(x)\n",
    "        x = F.relu(self.fc3(x))\n",
    "        x = self.dropout3(x)\n",
    "        x = F.relu(self.fc4(x))\n",
    "        x = self.dropout4(x)\n",
    "        x = F.relu(self.fc5(x))\n",
    "        features = self.feature_extractor(x)\n",
    "        output = self.fc6(x)\n",
    "        return features, output\n",
    "\n",
    "# Load the MLP model\n",
    "mlp_model = MLPModel().to(device)\n",
    "mlp_model.load_state_dict(torch.load(\"/home/janz/PROJECT/trained_models/mlp_model.pth\"))\n",
    "mlp_model.eval()"
   ]
  },
  {
   "cell_type": "code",
   "execution_count": 17,
   "metadata": {},
   "outputs": [
    {
     "name": "stdout",
     "output_type": "stream",
     "text": [
      "Let's use 3 GPUs!\n"
     ]
    }
   ],
   "source": [
    "# Step 3: Combine Models into a Single Integrated Model\n",
    "class CombinedModel(nn.Module):\n",
    "    def __init__(self, cnn_model, mlp_model):\n",
    "        super(CombinedModel, self).__init__()\n",
    "        self.cnn_model = cnn_model\n",
    "        self.mlp_model = mlp_model\n",
    "\n",
    "        # # Freeze the parameters of cnn_model\n",
    "        # for param in self.cnn_model.parameters():\n",
    "        #     param.requires_grad = False\n",
    "        \n",
    "        # # Freeze the parameters of mlp_model\n",
    "        # for param in self.mlp_model.parameters():\n",
    "        #     param.requires_grad = False\n",
    "\n",
    "        cnn_features_size = 15  \n",
    "        mlp_features_size = 64 \n",
    "        \n",
    "        # Calculate the combined input size for the FC layers\n",
    "        combined_features_size = cnn_features_size + mlp_features_size\n",
    "        \n",
    "        # Define FC layers\n",
    "        self.fc1 = nn.Linear(combined_features_size, 128)\n",
    "        self.dropout1 = nn.Dropout(p=0.2)\n",
    "        self.fc2 = nn.Linear(128, 64)\n",
    "        self.dropout2 = nn.Dropout(p=0.2)\n",
    "        self.fc3 = nn.Linear(64, 32)\n",
    "        self.dropout3 = nn.Dropout(p=0.2)\n",
    "        self.fc4 = nn.Linear(32, 1)\n",
    "\n",
    "    def forward(self, x_cnn, x_mlp):\n",
    "        # Forward pass through CNN model\n",
    "        cnn_features, _ = self.cnn_model(x_cnn)\n",
    "        \n",
    "        # Forward pass through MLP model\n",
    "        mlp_features, _ = self.mlp_model(x_mlp)\n",
    "\n",
    "        # Concatenate features from both models\n",
    "        combined_features = torch.cat((cnn_features, mlp_features), dim=1)\n",
    "\n",
    "        # Apply FC layers with ReLU activation\n",
    "        x = F.relu(self.fc1(combined_features))\n",
    "        x = self.dropout1(x)\n",
    "        x = F.relu(self.fc2(x))\n",
    "        x = self.dropout2(x)\n",
    "        x = F.relu(self.fc3(x))\n",
    "        x = self.dropout3(x)\n",
    "        \n",
    "        # Final output layer (no activation for regression)\n",
    "        x = self.fc4(x)\n",
    "\n",
    "        return x\n",
    "    \n",
    "device = torch.device(\"cuda\" if torch.cuda.is_available() else \"cpu\")\n",
    "# Instantiate the combined model\n",
    "model = CombinedModel(resnet_model.module, mlp_model).to(device)\n",
    "\n",
    "if torch.cuda.device_count() > 1:\n",
    "    print(\"Let's use\", torch.cuda.device_count(), \"GPUs!\")\n",
    "    model = nn.DataParallel(model)\n",
    "\n",
    "# # Print the combined model architecture\n",
    "# print(model)"
   ]
  },
  {
   "cell_type": "code",
   "execution_count": 18,
   "metadata": {},
   "outputs": [],
   "source": [
    "from eye_dataset import EyeDataset  # Import EyeDataset from your module\n",
    "\n",
    "# Set seed for reproducibility\n",
    "def set_seed(seed):\n",
    "    torch.manual_seed(seed)\n",
    "    torch.cuda.manual_seed_all(seed)\n",
    "    torch.backends.cudnn.deterministic = True\n",
    "    torch.backends.cudnn.benchmark = False\n",
    "    np.random.seed(seed)\n",
    "    random.seed(seed)\n",
    "\n",
    "set_seed(42)\n",
    "\n",
    "# Define directories for image loading\n",
    "right_eye_dir = \"/home/janz/PROJECT/Eye_Scans_Data/op2_png\"\n",
    "left_eye_dir = \"/home/janz/PROJECT/Eye_Scans_Data/op5_png\"\n",
    "\n",
    "# Load and preprocess tabular data\n",
    "csv_file = \"/home/janz/PROJECT/Tabular_Datas/Tabular_for_cnn_updated.csv\"\n",
    "df = pd.read_csv(csv_file)\n",
    "\n",
    "# Scale the target variable\n",
    "df['Last_UCVA'] = df['Last_UCVA'] * 10\n",
    "\n",
    "# Drop unnecessary columns\n",
    "df.drop(columns=['Last_Efficacy Index', 'Surgery Date', 'Op.Time', 'Last_Target Sph',\n",
    "                 'Therapeutic Cont L', 'Era', 'Season', 'Temp', 'Humidity'], inplace=True)\n",
    "\n",
    "# Encode categorical variables\n",
    "label_encoders = {}\n",
    "for col in df.select_dtypes(include=['object']).columns:\n",
    "    if col != \"Ocular Treatment ID\":\n",
    "        label_encoders[col] = LabelEncoder()\n",
    "        df[col] = label_encoders[col].fit_transform(df[col])\n",
    "\n",
    "# Split data into train, validation, and test sets\n",
    "train_data, test_data = train_test_split(df, test_size=0.2, random_state=42)\n",
    "train_data, val_data = train_test_split(train_data, test_size=0.2, random_state=42)\n",
    "\n",
    "# Create datasets and dataloaders\n",
    "transform = transforms.Compose([\n",
    "    # Add any necessary transformations here (e.g., resizing, normalization, augmentation)\n",
    "    transforms.RandomHorizontalFlip(),\n",
    "    transforms.RandomRotation(10),\n",
    "    transforms.ToTensor(),\n",
    "    transforms.Normalize(mean=[0.485, 0.456, 0.406], std=[0.229, 0.224, 0.225])\n",
    "])\n",
    "\n",
    "train_dataset = EyeDataset(train_data, transform=transform)\n",
    "val_dataset = EyeDataset(val_data, transform=transform)\n",
    "test_dataset = EyeDataset(test_data, transform=transform)"
   ]
  },
  {
   "cell_type": "code",
   "execution_count": 19,
   "metadata": {},
   "outputs": [],
   "source": [
    "# Hyperparameters\n",
    "num_epochs = 45\n",
    "batch_size = 32\n",
    "learning_rate = 0.0001"
   ]
  },
  {
   "cell_type": "code",
   "execution_count": 20,
   "metadata": {},
   "outputs": [],
   "source": [
    "train_loader = DataLoader(train_dataset, batch_size=batch_size, shuffle=True, num_workers=32, pin_memory=True)\n",
    "val_loader = DataLoader(val_dataset, batch_size=batch_size, shuffle=False, num_workers=32, pin_memory=True)\n",
    "test_loader = DataLoader(test_dataset, batch_size=batch_size, shuffle=False, num_workers=32, pin_memory=True)"
   ]
  },
  {
   "cell_type": "code",
   "execution_count": 21,
   "metadata": {},
   "outputs": [],
   "source": [
    "import torch\n",
    "torch.cuda.empty_cache()"
   ]
  },
  {
   "cell_type": "code",
   "execution_count": 22,
   "metadata": {},
   "outputs": [
    {
     "name": "stderr",
     "output_type": "stream",
     "text": [
      "Epoch 1/45: 100%|██████████| 1071/1071 [03:54<00:00,  4.57batch/s, loss=8.65]\n"
     ]
    },
    {
     "name": "stdout",
     "output_type": "stream",
     "text": [
      "Epoch [1/45], Loss: 10.2150\n"
     ]
    },
    {
     "name": "stderr",
     "output_type": "stream",
     "text": [
      "Validation: 100%|██████████| 268/268 [00:49<00:00,  5.41batch/s, loss=2.99]\n"
     ]
    },
    {
     "name": "stdout",
     "output_type": "stream",
     "text": [
      "Validation Loss after epoch 1: 3.3622\n"
     ]
    },
    {
     "name": "stderr",
     "output_type": "stream",
     "text": [
      "Epoch 2/45: 100%|██████████| 1071/1071 [03:54<00:00,  4.57batch/s, loss=2.26]\n"
     ]
    },
    {
     "name": "stdout",
     "output_type": "stream",
     "text": [
      "Epoch [2/45], Loss: 5.3037\n"
     ]
    },
    {
     "name": "stderr",
     "output_type": "stream",
     "text": [
      "Validation: 100%|██████████| 268/268 [00:49<00:00,  5.40batch/s, loss=2.8]  \n"
     ]
    },
    {
     "name": "stdout",
     "output_type": "stream",
     "text": [
      "Validation Loss after epoch 2: 2.8454\n"
     ]
    },
    {
     "name": "stderr",
     "output_type": "stream",
     "text": [
      "Epoch 3/45: 100%|██████████| 1071/1071 [03:55<00:00,  4.55batch/s, loss=0.156]\n"
     ]
    },
    {
     "name": "stdout",
     "output_type": "stream",
     "text": [
      "Epoch [3/45], Loss: 5.0778\n"
     ]
    },
    {
     "name": "stderr",
     "output_type": "stream",
     "text": [
      "Validation: 100%|██████████| 268/268 [00:49<00:00,  5.39batch/s, loss=2.92]\n"
     ]
    },
    {
     "name": "stdout",
     "output_type": "stream",
     "text": [
      "Validation Loss after epoch 3: 2.9946\n"
     ]
    },
    {
     "name": "stderr",
     "output_type": "stream",
     "text": [
      "Epoch 4/45: 100%|██████████| 1071/1071 [03:54<00:00,  4.57batch/s, loss=4.96]\n"
     ]
    },
    {
     "name": "stdout",
     "output_type": "stream",
     "text": [
      "Epoch [4/45], Loss: 4.9511\n"
     ]
    },
    {
     "name": "stderr",
     "output_type": "stream",
     "text": [
      "Validation: 100%|██████████| 268/268 [00:49<00:00,  5.42batch/s, loss=2.87]\n"
     ]
    },
    {
     "name": "stdout",
     "output_type": "stream",
     "text": [
      "Validation Loss after epoch 4: 2.9439\n"
     ]
    },
    {
     "name": "stderr",
     "output_type": "stream",
     "text": [
      "Epoch 5/45: 100%|██████████| 1071/1071 [03:53<00:00,  4.59batch/s, loss=6.41]\n"
     ]
    },
    {
     "name": "stdout",
     "output_type": "stream",
     "text": [
      "Epoch [5/45], Loss: 4.8744\n"
     ]
    },
    {
     "name": "stderr",
     "output_type": "stream",
     "text": [
      "Validation: 100%|██████████| 268/268 [00:49<00:00,  5.40batch/s, loss=3.05]\n"
     ]
    },
    {
     "name": "stdout",
     "output_type": "stream",
     "text": [
      "Validation Loss after epoch 5: 3.5206\n"
     ]
    },
    {
     "name": "stderr",
     "output_type": "stream",
     "text": [
      "Epoch 6/45: 100%|██████████| 1071/1071 [03:54<00:00,  4.57batch/s, loss=1.93]\n"
     ]
    },
    {
     "name": "stdout",
     "output_type": "stream",
     "text": [
      "Epoch [6/45], Loss: 4.8426\n"
     ]
    },
    {
     "name": "stderr",
     "output_type": "stream",
     "text": [
      "Validation: 100%|██████████| 268/268 [00:49<00:00,  5.43batch/s, loss=2.77] \n"
     ]
    },
    {
     "name": "stdout",
     "output_type": "stream",
     "text": [
      "Validation Loss after epoch 6: 2.7111\n"
     ]
    },
    {
     "name": "stderr",
     "output_type": "stream",
     "text": [
      "Epoch 7/45: 100%|██████████| 1071/1071 [03:54<00:00,  4.58batch/s, loss=11.7]\n"
     ]
    },
    {
     "name": "stdout",
     "output_type": "stream",
     "text": [
      "Epoch [7/45], Loss: 4.7934\n"
     ]
    },
    {
     "name": "stderr",
     "output_type": "stream",
     "text": [
      "Validation: 100%|██████████| 268/268 [00:49<00:00,  5.41batch/s, loss=3.06] \n"
     ]
    },
    {
     "name": "stdout",
     "output_type": "stream",
     "text": [
      "Validation Loss after epoch 7: 2.6220\n"
     ]
    },
    {
     "name": "stderr",
     "output_type": "stream",
     "text": [
      "Epoch 8/45: 100%|██████████| 1071/1071 [03:54<00:00,  4.58batch/s, loss=2.48]\n"
     ]
    },
    {
     "name": "stdout",
     "output_type": "stream",
     "text": [
      "Epoch [8/45], Loss: 4.7617\n"
     ]
    },
    {
     "name": "stderr",
     "output_type": "stream",
     "text": [
      "Validation: 100%|██████████| 268/268 [00:49<00:00,  5.42batch/s, loss=2.77] \n"
     ]
    },
    {
     "name": "stdout",
     "output_type": "stream",
     "text": [
      "Validation Loss after epoch 8: 2.7815\n"
     ]
    },
    {
     "name": "stderr",
     "output_type": "stream",
     "text": [
      "Epoch 9/45: 100%|██████████| 1071/1071 [03:54<00:00,  4.57batch/s, loss=1.41]\n"
     ]
    },
    {
     "name": "stdout",
     "output_type": "stream",
     "text": [
      "Epoch [9/45], Loss: 4.7000\n"
     ]
    },
    {
     "name": "stderr",
     "output_type": "stream",
     "text": [
      "Validation: 100%|██████████| 268/268 [00:49<00:00,  5.41batch/s, loss=2.87] \n"
     ]
    },
    {
     "name": "stdout",
     "output_type": "stream",
     "text": [
      "Validation Loss after epoch 9: 2.6322\n"
     ]
    },
    {
     "name": "stderr",
     "output_type": "stream",
     "text": [
      "Epoch 10/45: 100%|██████████| 1071/1071 [03:54<00:00,  4.57batch/s, loss=7.09]\n"
     ]
    },
    {
     "name": "stdout",
     "output_type": "stream",
     "text": [
      "Epoch [10/45], Loss: 4.6539\n"
     ]
    },
    {
     "name": "stderr",
     "output_type": "stream",
     "text": [
      "Validation: 100%|██████████| 268/268 [00:49<00:00,  5.42batch/s, loss=2.72]\n"
     ]
    },
    {
     "name": "stdout",
     "output_type": "stream",
     "text": [
      "Validation Loss after epoch 10: 2.8879\n"
     ]
    },
    {
     "name": "stderr",
     "output_type": "stream",
     "text": [
      "Epoch 11/45: 100%|██████████| 1071/1071 [03:54<00:00,  4.57batch/s, loss=2.05]\n"
     ]
    },
    {
     "name": "stdout",
     "output_type": "stream",
     "text": [
      "Epoch [11/45], Loss: 4.6792\n"
     ]
    },
    {
     "name": "stderr",
     "output_type": "stream",
     "text": [
      "Validation: 100%|██████████| 268/268 [00:49<00:00,  5.41batch/s, loss=3.08]"
     ]
    },
    {
     "name": "stdout",
     "output_type": "stream",
     "text": [
      "Validation Loss after epoch 11: 3.4361\n",
      "Early stopping at epoch 11\n",
      "Finished Training\n"
     ]
    },
    {
     "name": "stderr",
     "output_type": "stream",
     "text": [
      "\n"
     ]
    }
   ],
   "source": [
    "from tqdm import tqdm  # Import tqdm for progress bar\n",
    "import torch.cuda as cuda\n",
    "\n",
    "# Initialize variables for early stopping\n",
    "best_val_loss = float('inf')\n",
    "epochs_no_improve = 0\n",
    "patience = 4\n",
    "\n",
    "# Define criterion (loss function) and optimizer\n",
    "criterion = nn.MSELoss()\n",
    "optimizer = optim.Adam(model.parameters(), lr=learning_rate)\n",
    "\n",
    "# Training loop\n",
    "for epoch in range(num_epochs):\n",
    "    model.train()  # Set the model to training mode\n",
    "    running_loss = 0.0\n",
    "\n",
    "    # Use tqdm to wrap train_loader for a progress bar\n",
    "    with tqdm(train_loader, desc=f\"Epoch {epoch+1}/{num_epochs}\", unit=\"batch\") as t:\n",
    "        for cnn_input_tensor, mlp_input_tensor, targets in t:\n",
    "            # Move tensors to the configured device\n",
    "            cnn_input_tensor = cnn_input_tensor.to(device)\n",
    "            mlp_input_tensor = mlp_input_tensor.to(device)\n",
    "            targets = targets.to(device)\n",
    "\n",
    "            # Zero the parameter gradients\n",
    "            optimizer.zero_grad()\n",
    "\n",
    "            # Forward pass\n",
    "            outputs = model(cnn_input_tensor, mlp_input_tensor)\n",
    "            \n",
    "            # Calculate loss\n",
    "            loss = criterion(outputs.squeeze(), targets)  # Assuming targets are 1D, squeeze to match output shape\n",
    "\n",
    "            # Backward pass and optimize\n",
    "            loss.backward()\n",
    "            optimizer.step()\n",
    "\n",
    "            # Update progress bar description with current loss\n",
    "            t.set_postfix(loss=loss.item())\n",
    "\n",
    "            # Accumulate running loss\n",
    "            running_loss += loss.item()\n",
    "\n",
    "    # Calculate average loss for the epoch\n",
    "    epoch_loss = running_loss / len(train_loader)\n",
    "\n",
    "    # Print epoch statistics\n",
    "    print(f\"Epoch [{epoch+1}/{num_epochs}], Loss: {epoch_loss:.4f}\")\n",
    "\n",
    "    # Validation\n",
    "    model.eval()  # Set the model to evaluation mode\n",
    "    val_loss = 0.0\n",
    "    with torch.no_grad():\n",
    "        with tqdm(val_loader, desc=f\"Validation\", unit=\"batch\") as t:\n",
    "            for cnn_input_tensor, mlp_input_tensor, targets in t:\n",
    "                cnn_input_tensor = cnn_input_tensor.to(device)\n",
    "                mlp_input_tensor = mlp_input_tensor.to(device)\n",
    "                targets = targets.to(device)\n",
    "\n",
    "                outputs = model(cnn_input_tensor, mlp_input_tensor)\n",
    "                loss = criterion(outputs.squeeze(), targets)\n",
    "\n",
    "                val_loss += loss.item()\n",
    "                \n",
    "                # Update progress bar description with current loss\n",
    "                t.set_postfix(loss=loss.item())\n",
    "\n",
    "    val_loss /= len(val_loader)\n",
    "    print(f\"Validation Loss after epoch {epoch+1}: {val_loss:.4f}\")\n",
    "\n",
    "    # Early stopping check\n",
    "    if val_loss < best_val_loss:\n",
    "        best_val_loss = val_loss\n",
    "        epochs_no_improve = 0\n",
    "    else:\n",
    "        epochs_no_improve += 1\n",
    "\n",
    "    if epochs_no_improve >= patience:\n",
    "        print(f'Early stopping at epoch {epoch+1}')\n",
    "        break\n",
    "\n",
    "print(\"Finished Training\")"
   ]
  },
  {
   "cell_type": "code",
   "execution_count": 23,
   "metadata": {},
   "outputs": [
    {
     "name": "stderr",
     "output_type": "stream",
     "text": [
      "Testing: 100%|██████████| 335/335 [01:00<00:00,  5.50it/s]\n"
     ]
    }
   ],
   "source": [
    "from sklearn.metrics import precision_score, recall_score, accuracy_score, roc_auc_score\n",
    "\n",
    "# Evaluation function for the combined model\n",
    "def evaluate_model(model, test_loader):\n",
    "    model.eval()\n",
    "    all_predictions = []\n",
    "    all_targets = []\n",
    "\n",
    "    with torch.no_grad(), tqdm(total=len(test_loader), desc='Testing') as pbar:\n",
    "        for cnn_input_tensor, mlp_input_tensor, targets in test_loader:\n",
    "            cnn_input_tensor = cnn_input_tensor.to(device)\n",
    "            mlp_input_tensor = mlp_input_tensor.to(device)\n",
    "            targets = targets.to(device)\n",
    "            \n",
    "            outputs = model(cnn_input_tensor, mlp_input_tensor).squeeze(1)\n",
    "\n",
    "            all_predictions.extend(outputs.cpu().numpy().flatten())\n",
    "            all_targets.extend(targets.cpu().numpy().flatten())\n",
    "            pbar.update(1)  # Update the progress bar\n",
    "\n",
    "    all_predictions = np.array(all_predictions)\n",
    "    all_targets = np.array(all_targets)\n",
    "\n",
    "    return all_predictions, all_targets\n",
    "\n",
    "# Evaluate the combined model\n",
    "all_predictions, all_targets = evaluate_model(model, test_loader)"
   ]
  },
  {
   "cell_type": "code",
   "execution_count": 32,
   "metadata": {},
   "outputs": [
    {
     "name": "stdout",
     "output_type": "stream",
     "text": [
      "Test Precision: 0.9184, Recall: 0.7944, Accuracy: 0.7654, AUC: 0.6982\n",
      "False Alarm Rate: 0.3980\n"
     ]
    }
   ],
   "source": [
    "binary_classification_threshold = 8\n",
    "abs_difference_threshold = 1\n",
    "\n",
    "# Check if the absolute difference is smaller than the threshold\n",
    "abs_difference = np.abs(all_predictions - all_targets)\n",
    "abs_difference_mask = abs_difference <= abs_difference_threshold\n",
    "\n",
    "# Convert to binary classification based on threshold\n",
    "binary_predictions = np.where(all_predictions >= binary_classification_threshold, 1, 0)\n",
    "binary_targets = np.where(all_targets >= binary_classification_threshold, 1, 0)\n",
    "\n",
    "for i in range(len(binary_predictions)):\n",
    "    if abs_difference_mask[i]:\n",
    "        binary_predictions[i] = binary_targets[i]\n",
    "\n",
    "# Calculate precision, recall, accuracy, and AUC\n",
    "precision = precision_score(binary_targets, binary_predictions)\n",
    "recall = recall_score(binary_targets, binary_predictions)\n",
    "accuracy = accuracy_score(binary_targets, binary_predictions)\n",
    "auc = roc_auc_score(binary_targets, binary_predictions)\n",
    "\n",
    "print(f'Test Precision: {precision:.4f}, Recall: {recall:.4f}, Accuracy: {accuracy:.4f}, AUC: {auc:.4f}')\n",
    "\n",
    "# Calculate false alarm rate (FPR)\n",
    "true_negatives = np.sum((binary_targets == 0) & (binary_predictions == 0))\n",
    "false_positives = np.sum((binary_targets == 0) & (binary_predictions == 1))\n",
    "false_alarm_rate = false_positives / (false_positives + true_negatives)\n",
    "\n",
    "print(f'False Alarm Rate: {false_alarm_rate:.4f}')"
   ]
  },
  {
   "cell_type": "code",
   "execution_count": 26,
   "metadata": {},
   "outputs": [
    {
     "name": "stdout",
     "output_type": "stream",
     "text": [
      "Confusion Matrix:\n",
      "[[1679  335]\n",
      " [5067 3622]]\n"
     ]
    },
    {
     "data": {
      "image/png": "[encoded data removed]",
      "text/plain": [
       "<Figure size 800x600 with 2 Axes>"
      ]
     },
     "metadata": {},
     "output_type": "display_data"
    }
   ],
   "source": [
    "from sklearn.metrics import confusion_matrix\n",
    "from matplotlib import pyplot as plt\n",
    "import seaborn as sns\n",
    "\n",
    "cm = confusion_matrix(binary_targets, binary_predictions)\n",
    "print(\"Confusion Matrix:\")\n",
    "print(cm)\n",
    "\n",
    "# Plot the confusion matrix using seaborn\n",
    "plt.figure(figsize=(8, 6))\n",
    "sns.heatmap(cm, annot=True, fmt='d', cmap='Blues', xticklabels=['Negative', 'Positive'], yticklabels=['Negative', 'Positive'])\n",
    "plt.xlabel('Predicted Label')\n",
    "plt.ylabel('True Label')\n",
    "plt.title('Confusion Matrix')\n",
    "plt.show()"
   ]
  },
  {
   "cell_type": "code",
   "execution_count": 27,
   "metadata": {},
   "outputs": [
    {
     "data": {
      "image/png": "[encoded data removed]",
      "text/plain": [
       "<Figure size 500x300 with 1 Axes>"
      ]
     },
     "metadata": {},
     "output_type": "display_data"
    },
    {
     "data": {
      "image/png": "[encoded data removed]",
      "text/plain": [
       "<Figure size 500x300 with 1 Axes>"
      ]
     },
     "metadata": {},
     "output_type": "display_data"
    }
   ],
   "source": [
    "# Plotting the histogram\n",
    "plt.figure(figsize=(5, 3))\n",
    "plt.hist(all_predictions, bins=50, edgecolor='k', alpha=0.7)\n",
    "plt.title('Distribution of Predictions')\n",
    "plt.xlabel('Predicted Value')\n",
    "plt.ylabel('Frequency')\n",
    "plt.grid(True)\n",
    "plt.show()\n",
    "\n",
    "# Plotting the histogram\n",
    "plt.figure(figsize=(5, 3))\n",
    "plt.hist(all_targets, bins=50, edgecolor='k', alpha=0.7)\n",
    "plt.title('Distribution of actual Targets')\n",
    "plt.xlabel('Predicted Value')\n",
    "plt.ylabel('Frequency')\n",
    "plt.grid(True)\n",
    "plt.show()"
   ]
  }
 ],
 "metadata": {
  "kernelspec": {
   "display_name": "new_env",
   "language": "python",
   "name": "python3"
  },
  "language_info": {
   "codemirror_mode": {
    "name": "ipython",
    "version": 3
   },
   "file_extension": ".py",
   "mimetype": "text/x-python",
   "name": "python",
   "nbconvert_exporter": "python",
   "pygments_lexer": "ipython3",
   "version": "3.10.0"
  }
 },
 "nbformat": 4,
 "nbformat_minor": 2
}
