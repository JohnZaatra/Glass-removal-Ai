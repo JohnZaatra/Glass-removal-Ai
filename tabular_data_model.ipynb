{
 "cells": [
  {
   "cell_type": "code",
   "execution_count": 1,
   "metadata": {},
   "outputs": [],
   "source": [
    "import pandas as pd\n",
    "import torch\n",
    "import torch.nn as nn\n",
    "import torch.nn.functional as F\n",
    "import torch.optim as optim\n",
    "from torch.utils.data import DataLoader, TensorDataset\n",
    "\n",
    "\n",
    "from sklearn.preprocessing import LabelEncoder\n",
    "from sklearn.model_selection import train_test_split\n",
    "from sklearn.discriminant_analysis import StandardScaler\n",
    "\n",
    "import pandas as pd\n",
    "import numpy as np\n",
    "from matplotlib import pyplot as plt"
   ]
  },
  {
   "cell_type": "code",
   "execution_count": 2,
   "metadata": {},
   "outputs": [
    {
     "name": "stdout",
     "output_type": "stream",
     "text": [
      "        Ocular Treatment ID    File   Age Gender    Eye Dominant Eye  \\\n",
      "0  267292-Right-Treatment-1  267292  51.0      M  Right           OD   \n",
      "1   267292-Left-Treatment-1  267292  51.0      M   Left           OD   \n",
      "2  271122-Right-Treatment-1  271122  31.0      M  Right           OD   \n",
      "3   271122-Left-Treatment-1  271122  31.0      M   Left           OD   \n",
      "4  274004-Right-Treatment-1  274004  44.0      F  Right           OS   \n",
      "\n",
      "   Pachymetry  PRE-OP Average K  Pre-op K  Axis min  UCVA  ...  Alchohol  \\\n",
      "0       559.0             43.80                10.0  0.30  ...      -2.0   \n",
      "1       573.0             44.07               160.0  0.30  ...      -2.0   \n",
      "2       557.0             45.59                 3.0  0.35  ...      -2.0   \n",
      "3       556.0             45.44               178.0  0.35  ...      -2.0   \n",
      "4       513.0             46.51               177.0  0.01  ...      -2.0   \n",
      "\n",
      "   PTK mmm  MZ sec  Therapeutic Cont L  Rotation Angle Degrees  \\\n",
      "0     -2.0    -2.0                  No                     0.0   \n",
      "1     -2.0    -2.0                  No                     0.0   \n",
      "2     -2.0    -2.0                  No                     0.0   \n",
      "3     -2.0    -2.0                  No                     0.0   \n",
      "4     -2.0    -2.0                  No                    -1.5   \n",
      "\n",
      "   Last_Target Sph  Last_UCVA Merge_Contact Lens  Season  Era  \n",
      "0                0       0.95                1.0       2    3  \n",
      "1               -2       0.40                1.0       2    3  \n",
      "2                0       0.95                1.0       2    3  \n",
      "3                0       0.85                1.0       2    3  \n",
      "4               -1       0.35                1.0       3    3  \n",
      "\n",
      "[5 rows x 35 columns]\n"
     ]
    }
   ],
   "source": [
    "df = pd.read_csv('data/processed_data.csv')\n",
    "\n",
    "print(df.head())"
   ]
  },
  {
   "cell_type": "code",
   "execution_count": 3,
   "metadata": {},
   "outputs": [],
   "source": [
    "# Drop relevant columns\n",
    "df.drop(columns=['Op.Time'], inplace=True)\n",
    "df.drop(columns=['Last_Target Sph'], inplace=True)"
   ]
  },
  {
   "cell_type": "code",
   "execution_count": 4,
   "metadata": {},
   "outputs": [
    {
     "name": "stdout",
     "output_type": "stream",
     "text": [
      "Ocular Treatment ID        object\n",
      "File                        int64\n",
      "Age                       float64\n",
      "Gender                     object\n",
      "Eye                        object\n",
      "Dominant Eye               object\n",
      "Pachymetry                float64\n",
      "PRE-OP Average K          float64\n",
      "Pre-op K  Axis min        float64\n",
      "UCVA                      float64\n",
      "Subjective SEQ            float64\n",
      "Subjective Cyl Axis       float64\n",
      "Subjective BCVA           float64\n",
      "Treatment SEQ             float64\n",
      "Treatment Param Axis      float64\n",
      "Opt Zo                    float64\n",
      "Max Abl Depth             float64\n",
      "Treatment Type             object\n",
      "Humidity                  float64\n",
      "Temp                      float64\n",
      "Micro                      object\n",
      "Ring                      float64\n",
      "Stop                      float64\n",
      "Head                       object\n",
      "Alchohol                  float64\n",
      "PTK mmm                   float64\n",
      "MZ sec                    float64\n",
      "Therapeutic Cont L         object\n",
      "Rotation Angle Degrees    float64\n",
      "Last_UCVA                 float64\n",
      "Merge_Contact Lens        float64\n",
      "Season                      int64\n",
      "Era                         int64\n",
      "dtype: object\n"
     ]
    }
   ],
   "source": [
    "print(df.dtypes)"
   ]
  },
  {
   "cell_type": "code",
   "execution_count": 5,
   "metadata": {},
   "outputs": [],
   "source": [
    "# Preprocess the data (convert non numeric data types to label encoder)\n",
    "label_encoders = {}\n",
    "for col in df.select_dtypes(include=['object']).columns:\n",
    "    if col != \"Ocular Treatment ID\": ############################### check\n",
    "        label_encoders[col] = LabelEncoder()\n",
    "        df[col] = label_encoders[col].fit_transform(df[col])"
   ]
  },
  {
   "cell_type": "code",
   "execution_count": 6,
   "metadata": {},
   "outputs": [],
   "source": [
    "# for col, encoder in label_encoders.items():\n",
    "#     print(f\"Column: {col}\")\n",
    "#     print(\"Encoded Values:\")\n",
    "#     for original_value, encoded_value in zip(encoder.classes_, encoder.transform(encoder.classes_)):\n",
    "#         print(f\"{original_value}: {encoded_value}\")\n",
    "#     print()\n"
   ]
  },
  {
   "cell_type": "code",
   "execution_count": 7,
   "metadata": {},
   "outputs": [
    {
     "name": "stdout",
     "output_type": "stream",
     "text": [
      "115551\n"
     ]
    }
   ],
   "source": [
    "print(len(df))"
   ]
  },
  {
   "cell_type": "code",
   "execution_count": 8,
   "metadata": {},
   "outputs": [],
   "source": [
    "# List of encoded treatment types\n",
    "treatment_types = [0, 1, 2]  # Femto Lasik, Lasik, PRK\n",
    "\n",
    "# Initialize dictionaries to hold train, validation, and test data (for each treatment type)\n",
    "train_data = {}\n",
    "val_data = {}\n",
    "test_data = {}\n",
    "\n",
    "# Loop over each treatment type\n",
    "for treatment_type in treatment_types:\n",
    "    # Filter data for the current treatment type\n",
    "    treatment_data = df[df['Treatment Type'] == treatment_type]\n",
    "    \n",
    "    # Split the data into train and test sets (80% train, 20% test)\n",
    "    train_data[treatment_type], test_data[treatment_type] = train_test_split(treatment_data, test_size=0.2, random_state=42)\n",
    "    \n",
    "    # Further split the train data into train and validation sets (80% train, 20% validation)\n",
    "    train_data[treatment_type], val_data[treatment_type] = train_test_split(train_data[treatment_type], test_size=0.2, random_state=42)\n",
    "\n",
    "# Concatenate data from all treatment types\n",
    "train_data_all = pd.concat(train_data.values())\n",
    "val_data_all = pd.concat(val_data.values())\n",
    "test_data_all = pd.concat(test_data.values())"
   ]
  },
  {
   "cell_type": "code",
   "execution_count": 9,
   "metadata": {},
   "outputs": [],
   "source": [
    "# Drop the target columns and also Ocular Treatment ID, File columns\n",
    "X_train = train_data_all.drop(columns=['Last_UCVA', 'Ocular Treatment ID', 'File'])\n",
    "X_val = val_data_all.drop(columns=['Last_UCVA', 'Ocular Treatment ID', 'File'])\n",
    "X_test = test_data_all.drop(columns=['Last_UCVA', 'Ocular Treatment ID', 'File'])\n",
    "\n",
    "# Extract the target variable\n",
    "y_train = train_data_all['Last_UCVA']\n",
    "y_val = val_data_all['Last_UCVA']\n",
    "y_test = test_data_all['Last_UCVA']"
   ]
  },
  {
   "cell_type": "code",
   "execution_count": 30,
   "metadata": {},
   "outputs": [],
   "source": [
    "# # Without scaling\n",
    "# X_train_tensor = torch.tensor(X_train.values.astype(np.float32))\n",
    "# X_val_tensor = torch.tensor(X_val.values.astype(np.float32))\n",
    "# X_test_tensor = torch.tensor(X_test.values.astype(np.float32))\n",
    "\n",
    "# With scaling\n",
    "scaler = StandardScaler()\n",
    "X_train_scaled = scaler.fit_transform(X_train)\n",
    "X_val_scaled = scaler.transform(X_val)\n",
    "X_test_scaled = scaler.transform(X_test)\n",
    "\n",
    "X_train_tensor = torch.tensor(X_train_scaled.astype(np.float32))\n",
    "X_val_tensor = torch.tensor(X_val_scaled.astype(np.float32))\n",
    "X_test_tensor = torch.tensor(X_test_scaled.astype(np.float32))\n",
    "\n",
    "# y tensors (does not matter if with or without scaling, because y labels will not be scaled)\n",
    "y_train_tensor = torch.tensor(y_train.values.astype(np.float32)).unsqueeze(1)\n",
    "y_val_tensor = torch.tensor(y_val.values.astype(np.float32)).unsqueeze(1)\n",
    "y_test_tensor = torch.tensor(y_test.values.astype(np.float32)).unsqueeze(1)"
   ]
  },
  {
   "cell_type": "code",
   "execution_count": 55,
   "metadata": {},
   "outputs": [],
   "source": [
    "# Hyperparameters\n",
    "num_epochs = 100\n",
    "batch_size = 32\n",
    "learning_rate = 0.001"
   ]
  },
  {
   "cell_type": "code",
   "execution_count": 56,
   "metadata": {},
   "outputs": [],
   "source": [
    "# Data loaders\n",
    "train_loader = DataLoader(TensorDataset(X_train_tensor, y_train_tensor), batch_size=batch_size, shuffle=True)\n",
    "val_loader = DataLoader(TensorDataset(X_val_tensor, y_val_tensor), batch_size=batch_size)\n",
    "test_loader = DataLoader(TensorDataset(X_test_tensor, y_test_tensor), batch_size=batch_size)"
   ]
  },
  {
   "cell_type": "code",
   "execution_count": 57,
   "metadata": {},
   "outputs": [],
   "source": [
    "class Net(nn.Module):\n",
    "    # Start by testing a small network built with layers of 100, 100, 30\n",
    "    def __init__(self):\n",
    "        super(Net, self).__init__()\n",
    "        self.fc1 = nn.Linear(X_train_tensor.shape[1], 100)\n",
    "        self.dropout1 = nn.Dropout(0.1)  # Add dropout layer with 20% dropout rate\n",
    "        self.fc2 = nn.Linear(100, 100)\n",
    "        self.dropout2 = nn.Dropout(0.1)  # Add dropout layer with 20% dropout rate\n",
    "        self.fc3 = nn.Linear(100, 30)\n",
    "        self.fc4 = nn.Linear(30, 1)\n",
    "\n",
    "    def forward(self, x):\n",
    "        x = F.relu(self.fc1(x))\n",
    "        x = self.dropout1(x)  # Apply dropout after the first hidden layer\n",
    "        x = F.relu(self.fc2(x))\n",
    "        x = self.dropout2(x)  # Apply dropout after the second hidden layer\n",
    "        x = F.relu(self.fc3(x))\n",
    "        x = self.fc4(x)\n",
    "        return x\n",
    "# model, loss function, and optimizer\n",
    "model = Net()\n",
    "criterion = nn.MSELoss() # MSE (Mean Squared Error)\n",
    "optimizer = optim.Adam(model.parameters(), lr=learning_rate) # Adam is used as an optimizer"
   ]
  },
  {
   "cell_type": "code",
   "execution_count": 58,
   "metadata": {},
   "outputs": [
    {
     "name": "stdout",
     "output_type": "stream",
     "text": [
      "Epoch [1/100], Training Loss: 0.0681, Validation Loss: 0.0520\n",
      "Epoch [2/100], Training Loss: 0.0474, Validation Loss: 0.0419\n",
      "Epoch [3/100], Training Loss: 0.0454, Validation Loss: 0.0458\n",
      "Epoch [4/100], Training Loss: 0.0448, Validation Loss: 0.0464\n",
      "Epoch [5/100], Training Loss: 0.0441, Validation Loss: 0.0517\n",
      "Epoch [6/100], Training Loss: 0.0426, Validation Loss: 0.0389\n",
      "Epoch [7/100], Training Loss: 0.0423, Validation Loss: 0.0388\n",
      "Epoch [8/100], Training Loss: 0.0437, Validation Loss: 0.0404\n",
      "Epoch [9/100], Training Loss: 0.0410, Validation Loss: 0.0381\n",
      "Epoch [10/100], Training Loss: 0.0403, Validation Loss: 0.0451\n",
      "Epoch [11/100], Training Loss: 0.0398, Validation Loss: 0.0394\n",
      "Epoch [12/100], Training Loss: 0.0387, Validation Loss: 0.0389\n",
      "Epoch [13/100], Training Loss: 0.0394, Validation Loss: 0.0395\n",
      "Epoch [14/100], Training Loss: 0.0380, Validation Loss: 0.0377\n",
      "Epoch [15/100], Training Loss: 0.0376, Validation Loss: 0.0374\n",
      "Epoch [16/100], Training Loss: 0.0371, Validation Loss: 0.0374\n",
      "Epoch [17/100], Training Loss: 0.0389, Validation Loss: 0.0381\n",
      "Epoch [18/100], Training Loss: 0.0374, Validation Loss: 0.0380\n",
      "Epoch [19/100], Training Loss: 0.0370, Validation Loss: 0.0375\n",
      "Epoch [20/100], Training Loss: 0.0367, Validation Loss: 0.0370\n",
      "Epoch [21/100], Training Loss: 0.0376, Validation Loss: 0.0380\n",
      "Epoch [22/100], Training Loss: 0.0363, Validation Loss: 0.0372\n",
      "Epoch [23/100], Training Loss: 0.0367, Validation Loss: 0.0382\n",
      "Epoch [24/100], Training Loss: 0.0357, Validation Loss: 0.0369\n",
      "Epoch [25/100], Training Loss: 0.0360, Validation Loss: 0.0360\n",
      "Epoch [26/100], Training Loss: 0.0361, Validation Loss: 0.0379\n",
      "Epoch [27/100], Training Loss: 0.0364, Validation Loss: 0.0374\n",
      "Epoch [28/100], Training Loss: 0.0362, Validation Loss: 0.0366\n",
      "Epoch [29/100], Training Loss: 0.0361, Validation Loss: 0.0364\n",
      "Epoch [30/100], Training Loss: 0.0362, Validation Loss: 0.0362\n",
      "Epoch [31/100], Training Loss: 0.0357, Validation Loss: 0.0372\n",
      "Epoch [32/100], Training Loss: 0.0349, Validation Loss: 0.0356\n",
      "Epoch [33/100], Training Loss: 0.0365, Validation Loss: 0.0369\n",
      "Epoch [34/100], Training Loss: 0.0351, Validation Loss: 0.0361\n",
      "Epoch [35/100], Training Loss: 0.0350, Validation Loss: 0.0378\n",
      "Epoch [36/100], Training Loss: 0.0348, Validation Loss: 0.0381\n",
      "Epoch [37/100], Training Loss: 0.0354, Validation Loss: 0.0373\n",
      "Epoch [38/100], Training Loss: 0.0357, Validation Loss: 0.0379\n",
      "Epoch [39/100], Training Loss: 0.0344, Validation Loss: 0.0380\n",
      "Epoch [40/100], Training Loss: 0.0342, Validation Loss: 0.0369\n",
      "Epoch [41/100], Training Loss: 0.0346, Validation Loss: 0.0368\n",
      "Epoch [42/100], Training Loss: 0.0342, Validation Loss: 0.0375\n",
      "Epoch [43/100], Training Loss: 0.0358, Validation Loss: 0.0385\n",
      "Epoch [44/100], Training Loss: 0.0341, Validation Loss: 0.0366\n",
      "Epoch [45/100], Training Loss: 0.0339, Validation Loss: 0.0375\n",
      "Epoch [46/100], Training Loss: 0.0341, Validation Loss: 0.0381\n",
      "Epoch [47/100], Training Loss: 0.0348, Validation Loss: 0.0376\n",
      "Epoch [48/100], Training Loss: 0.0344, Validation Loss: 0.0371\n",
      "Epoch [49/100], Training Loss: 0.0336, Validation Loss: 0.0376\n",
      "Epoch [50/100], Training Loss: 0.0345, Validation Loss: 0.0363\n",
      "Epoch [51/100], Training Loss: 0.0341, Validation Loss: 0.0367\n",
      "Epoch [52/100], Training Loss: 0.0332, Validation Loss: 0.0371\n",
      "Epoch [53/100], Training Loss: 0.0339, Validation Loss: 0.0375\n",
      "Epoch [54/100], Training Loss: 0.0338, Validation Loss: 0.0366\n",
      "Epoch [55/100], Training Loss: 0.0337, Validation Loss: 0.0371\n",
      "Epoch [56/100], Training Loss: 0.0331, Validation Loss: 0.0364\n",
      "Epoch [57/100], Training Loss: 0.0333, Validation Loss: 0.0363\n",
      "Epoch [58/100], Training Loss: 0.0331, Validation Loss: 0.0379\n",
      "Epoch [59/100], Training Loss: 0.0335, Validation Loss: 0.0362\n",
      "Epoch [60/100], Training Loss: 0.0326, Validation Loss: 0.0367\n",
      "Epoch [61/100], Training Loss: 0.0323, Validation Loss: 0.0357\n",
      "Epoch [62/100], Training Loss: 0.0325, Validation Loss: 0.0359\n",
      "Epoch [63/100], Training Loss: 0.0331, Validation Loss: 0.0372\n",
      "Epoch [64/100], Training Loss: 0.0326, Validation Loss: 0.0374\n",
      "Epoch [65/100], Training Loss: 0.0318, Validation Loss: 0.0376\n",
      "Epoch [66/100], Training Loss: 0.0325, Validation Loss: 0.0362\n",
      "Epoch [67/100], Training Loss: 0.0325, Validation Loss: 0.0372\n",
      "Epoch [68/100], Training Loss: 0.0321, Validation Loss: 0.0380\n",
      "Epoch [69/100], Training Loss: 0.0321, Validation Loss: 0.0383\n",
      "Epoch [70/100], Training Loss: 0.0327, Validation Loss: 0.0367\n",
      "Epoch [71/100], Training Loss: 0.0338, Validation Loss: 0.0380\n",
      "Epoch [72/100], Training Loss: 0.0321, Validation Loss: 0.0377\n",
      "Epoch [73/100], Training Loss: 0.0312, Validation Loss: 0.0360\n",
      "Epoch [74/100], Training Loss: 0.0314, Validation Loss: 0.0366\n",
      "Epoch [75/100], Training Loss: 0.0312, Validation Loss: 0.0374\n",
      "Epoch [76/100], Training Loss: 0.0317, Validation Loss: 0.0371\n",
      "Epoch [77/100], Training Loss: 0.0313, Validation Loss: 0.0372\n",
      "Epoch [78/100], Training Loss: 0.0320, Validation Loss: 0.0364\n",
      "Epoch [79/100], Training Loss: 0.0311, Validation Loss: 0.0381\n",
      "Epoch [80/100], Training Loss: 0.0320, Validation Loss: 0.0365\n",
      "Epoch [81/100], Training Loss: 0.0311, Validation Loss: 0.0367\n",
      "Epoch [82/100], Training Loss: 0.0311, Validation Loss: 0.0368\n",
      "Epoch [83/100], Training Loss: 0.0309, Validation Loss: 0.0379\n",
      "Epoch [84/100], Training Loss: 0.0324, Validation Loss: 0.0384\n",
      "Epoch [85/100], Training Loss: 0.0323, Validation Loss: 0.0362\n",
      "Epoch [86/100], Training Loss: 0.0317, Validation Loss: 0.0360\n",
      "Epoch [87/100], Training Loss: 0.0319, Validation Loss: 0.0368\n",
      "Epoch [88/100], Training Loss: 0.0318, Validation Loss: 0.0367\n",
      "Epoch [89/100], Training Loss: 0.0309, Validation Loss: 0.0363\n",
      "Epoch [90/100], Training Loss: 0.0315, Validation Loss: 0.0363\n",
      "Epoch [91/100], Training Loss: 0.0306, Validation Loss: 0.0361\n",
      "Epoch [92/100], Training Loss: 0.0311, Validation Loss: 0.0356\n",
      "Epoch [93/100], Training Loss: 0.0311, Validation Loss: 0.0378\n",
      "Epoch [94/100], Training Loss: 0.0308, Validation Loss: 0.0364\n",
      "Epoch [95/100], Training Loss: 0.0324, Validation Loss: 0.0371\n",
      "Epoch [96/100], Training Loss: 0.0321, Validation Loss: 0.0368\n",
      "Epoch [97/100], Training Loss: 0.0305, Validation Loss: 0.0371\n",
      "Epoch [98/100], Training Loss: 0.0307, Validation Loss: 0.0380\n",
      "Epoch [99/100], Training Loss: 0.0317, Validation Loss: 0.0371\n",
      "Epoch [100/100], Training Loss: 0.0311, Validation Loss: 0.0375\n"
     ]
    }
   ],
   "source": [
    "# Train the model\n",
    "\n",
    "# Save losses for further analysis\n",
    "train_losses = []\n",
    "val_losses = []\n",
    "\n",
    "for epoch in range(num_epochs):\n",
    "    model.train()\n",
    "    running_train_loss = 0.0\n",
    "    for inputs, targets in train_loader:\n",
    "        optimizer.zero_grad()\n",
    "        outputs = model(inputs)\n",
    "        loss = criterion(outputs, targets)\n",
    "        loss.backward()\n",
    "        optimizer.step()\n",
    "        running_train_loss += loss.item() * inputs.size(0)\n",
    "    train_loss = running_train_loss / len(train_loader.dataset)\n",
    "    train_losses.append(train_loss)\n",
    "\n",
    "    model.eval()\n",
    "    running_val_loss = 0.0\n",
    "    with torch.no_grad():\n",
    "        for inputs, targets in val_loader:\n",
    "            outputs = model(inputs)\n",
    "            loss = criterion(outputs, targets)\n",
    "            running_val_loss += loss.item() * inputs.size(0)\n",
    "    val_loss = running_val_loss / len(val_loader.dataset)\n",
    "    val_losses.append(val_loss)\n",
    "\n",
    "    print(f'Epoch [{epoch+1}/{num_epochs}], Training Loss: {train_loss:.4f}, Validation Loss: {val_loss:.4f}')"
   ]
  },
  {
   "cell_type": "code",
   "execution_count": 59,
   "metadata": {},
   "outputs": [
    {
     "data": {
      "image/png": "[encoded data removed]",
      "text/plain": [
       "<Figure size 640x480 with 1 Axes>"
      ]
     },
     "metadata": {},
     "output_type": "display_data"
    }
   ],
   "source": [
    "# Plotting the loss curves\n",
    "plt.plot(range(1, num_epochs + 1), train_losses, label='Training Loss')\n",
    "plt.plot(range(1, num_epochs + 1), val_losses, label='Validation Loss')\n",
    "plt.title('Training and Validation Loss Curves')\n",
    "plt.xlabel('Epoch')\n",
    "plt.ylabel('Loss')\n",
    "plt.legend()\n",
    "plt.show()\n",
    "\n",
    "# # Plot Training and Validation Accuracy Curves\n",
    "# plt.plot(range(1, num_epochs + 1), train_accuracies, label='Training Accuracy')\n",
    "# plt.plot(range(1, num_epochs + 1), val_accuracies, label='Validation Accuracy')\n",
    "# plt.title('Training and Validation Accuracy Curves')\n",
    "# plt.xlabel('Epoch')\n",
    "# plt.ylabel('Accuracy')\n",
    "# plt.legend()\n",
    "# plt.show()"
   ]
  },
  {
   "cell_type": "code",
   "execution_count": 60,
   "metadata": {},
   "outputs": [
    {
     "name": "stdout",
     "output_type": "stream",
     "text": [
      "Mean Absolute Error (MAE): 0.1234\n",
      "Mean Squared Error (MSE): 0.0367\n"
     ]
    }
   ],
   "source": [
    "# Calculate Mean Absolute Error (MAE)\n",
    "with torch.no_grad():\n",
    "    total_mae = 0.0\n",
    "    for inputs, targets in test_loader:\n",
    "        outputs = model(inputs)\n",
    "        total_mae += torch.mean(torch.abs(outputs - targets)).item()\n",
    "    mae = total_mae / len(test_loader)\n",
    "\n",
    "print(f'Mean Absolute Error (MAE): {mae:.4f}')\n",
    "\n",
    "# Calculate Mean Squared Error (MSE)\n",
    "with torch.no_grad():\n",
    "    total_mse = 0.0\n",
    "    for inputs, targets in test_loader:\n",
    "        outputs = model(inputs)\n",
    "        total_mse += torch.mean((outputs - targets) ** 2).item()\n",
    "    mse = total_mse / len(test_loader)\n",
    "\n",
    "print(f'Mean Squared Error (MSE): {mse:.4f}')\n"
   ]
  },
  {
   "cell_type": "code",
   "execution_count": null,
   "metadata": {},
   "outputs": [],
   "source": [
    "# # Set option to display all columns\n",
    "# pd.set_option('display.max_columns', None)\n",
    "\n",
    "# # Set option to display all rows\n",
    "# pd.set_option('display.max_rows', None)"
   ]
  }
 ],
 "metadata": {
  "kernelspec": {
   "display_name": "Python 3",
   "language": "python",
   "name": "python3"
  },
  "language_info": {
   "codemirror_mode": {
    "name": "ipython",
    "version": 3
   },
   "file_extension": ".py",
   "mimetype": "text/x-python",
   "name": "python",
   "nbconvert_exporter": "python",
   "pygments_lexer": "ipython3",
   "version": "3.10.0"
  }
 },
 "nbformat": 4,
 "nbformat_minor": 2
}
