{
 "cells": [
  {
   "cell_type": "code",
   "execution_count": 1,
   "metadata": {},
   "outputs": [],
   "source": [
    "import pandas as pd\n",
    "import torch\n",
    "import torch.nn as nn\n",
    "import torch.nn.functional as F\n",
    "import torch.optim as optim\n",
    "from torch.utils.data import DataLoader, TensorDataset\n",
    "\n",
    "\n",
    "from sklearn.preprocessing import LabelEncoder\n",
    "from sklearn.model_selection import train_test_split\n",
    "from sklearn.discriminant_analysis import StandardScaler\n",
    "\n",
    "import pandas as pd\n",
    "import numpy as np\n",
    "from matplotlib import pyplot as plt"
   ]
  },
  {
   "cell_type": "code",
   "execution_count": 2,
   "metadata": {},
   "outputs": [
    {
     "name": "stdout",
     "output_type": "stream",
     "text": [
      "        Ocular Treatment ID    File   Age Gender    Eye Dominant Eye  \\\n",
      "0  267292-Right-Treatment-1  267292  51.0      M  Right           OD   \n",
      "1   267292-Left-Treatment-1  267292  51.0      M   Left           OD   \n",
      "2  271122-Right-Treatment-1  271122  31.0      M  Right           OD   \n",
      "3   271122-Left-Treatment-1  271122  31.0      M   Left           OD   \n",
      "4  274004-Right-Treatment-1  274004  44.0      F  Right           OS   \n",
      "\n",
      "   Pachymetry  PRE-OP Average K  Pre-op K  Axis min  UCVA  ...  Alchohol  \\\n",
      "0       559.0             43.80                10.0  0.30  ...      -2.0   \n",
      "1       573.0             44.07               160.0  0.30  ...      -2.0   \n",
      "2       557.0             45.59                 3.0  0.35  ...      -2.0   \n",
      "3       556.0             45.44               178.0  0.35  ...      -2.0   \n",
      "4       513.0             46.51               177.0  0.01  ...      -2.0   \n",
      "\n",
      "   PTK mmm  MZ sec  Therapeutic Cont L  Rotation Angle Degrees  \\\n",
      "0     -2.0    -2.0                  No                     0.0   \n",
      "1     -2.0    -2.0                  No                     0.0   \n",
      "2     -2.0    -2.0                  No                     0.0   \n",
      "3     -2.0    -2.0                  No                     0.0   \n",
      "4     -2.0    -2.0                  No                    -1.5   \n",
      "\n",
      "   Last_Target Sph  Last_UCVA Merge_Contact Lens  Season  Era  \n",
      "0                0       0.95                1.0       2    3  \n",
      "1               -2       0.40                1.0       2    3  \n",
      "2                0       0.95                1.0       2    3  \n",
      "3                0       0.85                1.0       2    3  \n",
      "4               -1       0.35                1.0       3    3  \n",
      "\n",
      "[5 rows x 35 columns]\n"
     ]
    }
   ],
   "source": [
    "df = pd.read_csv('data/processed_data.csv')\n",
    "\n",
    "print(df.head())"
   ]
  },
  {
   "cell_type": "code",
   "execution_count": 3,
   "metadata": {},
   "outputs": [],
   "source": [
    "# Drop relevant columns\n",
    "df.drop(columns=['Op.Time'], inplace=True)\n",
    "df.drop(columns=['Last_Target Sph'], inplace=True)"
   ]
  },
  {
   "cell_type": "code",
   "execution_count": 4,
   "metadata": {},
   "outputs": [
    {
     "name": "stdout",
     "output_type": "stream",
     "text": [
      "Ocular Treatment ID        object\n",
      "File                        int64\n",
      "Age                       float64\n",
      "Gender                     object\n",
      "Eye                        object\n",
      "Dominant Eye               object\n",
      "Pachymetry                float64\n",
      "PRE-OP Average K          float64\n",
      "Pre-op K  Axis min        float64\n",
      "UCVA                      float64\n",
      "Subjective SEQ            float64\n",
      "Subjective Cyl Axis       float64\n",
      "Subjective BCVA           float64\n",
      "Treatment SEQ             float64\n",
      "Treatment Param Axis      float64\n",
      "Opt Zo                    float64\n",
      "Max Abl Depth             float64\n",
      "Treatment Type             object\n",
      "Humidity                  float64\n",
      "Temp                      float64\n",
      "Micro                      object\n",
      "Ring                      float64\n",
      "Stop                      float64\n",
      "Head                       object\n",
      "Alchohol                  float64\n",
      "PTK mmm                   float64\n",
      "MZ sec                    float64\n",
      "Therapeutic Cont L         object\n",
      "Rotation Angle Degrees    float64\n",
      "Last_UCVA                 float64\n",
      "Merge_Contact Lens        float64\n",
      "Season                      int64\n",
      "Era                         int64\n",
      "dtype: object\n"
     ]
    }
   ],
   "source": [
    "print(df.dtypes)"
   ]
  },
  {
   "cell_type": "code",
   "execution_count": 5,
   "metadata": {},
   "outputs": [],
   "source": [
    "# Preprocess the data (convert non numeric data types to label encoder)\n",
    "label_encoders = {}\n",
    "for col in df.select_dtypes(include=['object']).columns:\n",
    "    if col != \"Ocular Treatment ID\": ############################### check\n",
    "        label_encoders[col] = LabelEncoder()\n",
    "        df[col] = label_encoders[col].fit_transform(df[col])"
   ]
  },
  {
   "cell_type": "code",
   "execution_count": 6,
   "metadata": {},
   "outputs": [],
   "source": [
    "# for col, encoder in label_encoders.items():\n",
    "#     print(f\"Column: {col}\")\n",
    "#     print(\"Encoded Values:\")\n",
    "#     for original_value, encoded_value in zip(encoder.classes_, encoder.transform(encoder.classes_)):\n",
    "#         print(f\"{original_value}: {encoded_value}\")\n",
    "#     print()\n"
   ]
  },
  {
   "cell_type": "code",
   "execution_count": 7,
   "metadata": {},
   "outputs": [
    {
     "name": "stdout",
     "output_type": "stream",
     "text": [
      "107338\n"
     ]
    }
   ],
   "source": [
    "print(len(df))"
   ]
  },
  {
   "cell_type": "code",
   "execution_count": 8,
   "metadata": {},
   "outputs": [],
   "source": [
    "# List of encoded treatment types\n",
    "treatment_types = [0, 1, 2]  # Femto Lasik, Lasik, PRK\n",
    "\n",
    "# Initialize dictionaries to hold train, validation, and test data (for each treatment type)\n",
    "train_data = {}\n",
    "val_data = {}\n",
    "test_data = {}\n",
    "\n",
    "# Loop over each treatment type\n",
    "for treatment_type in treatment_types:\n",
    "    # Filter data for the current treatment type\n",
    "    treatment_data = df[df['Treatment Type'] == treatment_type]\n",
    "    \n",
    "    # Split the data into train and test sets (80% train, 20% test)\n",
    "    train_data[treatment_type], test_data[treatment_type] = train_test_split(treatment_data, test_size=0.2, random_state=42)\n",
    "    \n",
    "    # Further split the train data into train and validation sets (80% train, 20% validation)\n",
    "    train_data[treatment_type], val_data[treatment_type] = train_test_split(train_data[treatment_type], test_size=0.2, random_state=42)\n",
    "\n",
    "# Concatenate data from all treatment types\n",
    "train_data_all = pd.concat(train_data.values())\n",
    "val_data_all = pd.concat(val_data.values())\n",
    "test_data_all = pd.concat(test_data.values())"
   ]
  },
  {
   "cell_type": "code",
   "execution_count": 9,
   "metadata": {},
   "outputs": [],
   "source": [
    "# Drop the target columns and also Ocular Treatment ID, File columns\n",
    "X_train = train_data_all.drop(columns=['Last_UCVA', 'Ocular Treatment ID', 'File', 'Season', 'Therapeutic Cont L', 'Temp', 'Humidity'])\n",
    "X_val = val_data_all.drop(columns=['Last_UCVA', 'Ocular Treatment ID', 'File', 'Season', 'Therapeutic Cont L', 'Temp', 'Humidity'])\n",
    "X_test = test_data_all.drop(columns=['Last_UCVA', 'Ocular Treatment ID', 'File', 'Season', 'Therapeutic Cont L', 'Temp', 'Humidity'])\n",
    "\n",
    "# Extract the target variable\n",
    "y_train = train_data_all['Last_UCVA']\n",
    "y_val = val_data_all['Last_UCVA']\n",
    "y_test = test_data_all['Last_UCVA']"
   ]
  },
  {
   "cell_type": "code",
   "execution_count": 10,
   "metadata": {},
   "outputs": [],
   "source": [
    "# # Without scaling\n",
    "# X_train_tensor = torch.tensor(X_train.values.astype(np.float32))\n",
    "# X_val_tensor = torch.tensor(X_val.values.astype(np.float32))\n",
    "# X_test_tensor = torch.tensor(X_test.values.astype(np.float32))\n",
    "\n",
    "# With scaling\n",
    "scaler = StandardScaler()\n",
    "X_train_scaled = scaler.fit_transform(X_train)\n",
    "X_val_scaled = scaler.transform(X_val)\n",
    "X_test_scaled = scaler.transform(X_test)\n",
    "\n",
    "X_train_tensor = torch.tensor(X_train_scaled.astype(np.float32))\n",
    "X_val_tensor = torch.tensor(X_val_scaled.astype(np.float32))\n",
    "X_test_tensor = torch.tensor(X_test_scaled.astype(np.float32))\n",
    "\n",
    "# y tensors (does not matter if with or without scaling, because y labels will not be scaled)\n",
    "y_train_tensor = torch.tensor(y_train.values.astype(np.float32)).unsqueeze(1)\n",
    "y_val_tensor = torch.tensor(y_val.values.astype(np.float32)).unsqueeze(1)\n",
    "y_test_tensor = torch.tensor(y_test.values.astype(np.float32)).unsqueeze(1)"
   ]
  },
  {
   "cell_type": "code",
   "execution_count": 11,
   "metadata": {},
   "outputs": [],
   "source": [
    "# Hyperparameters\n",
    "num_epochs = 10 #140\n",
    "batch_size = 64\n",
    "learning_rate = 0.001"
   ]
  },
  {
   "cell_type": "code",
   "execution_count": 12,
   "metadata": {},
   "outputs": [],
   "source": [
    "# Data loaders\n",
    "train_loader = DataLoader(TensorDataset(X_train_tensor, y_train_tensor), batch_size=batch_size, shuffle=True)\n",
    "val_loader = DataLoader(TensorDataset(X_val_tensor, y_val_tensor), batch_size=batch_size)\n",
    "test_loader = DataLoader(TensorDataset(X_test_tensor, y_test_tensor), batch_size=batch_size)"
   ]
  },
  {
   "cell_type": "code",
   "execution_count": 13,
   "metadata": {},
   "outputs": [],
   "source": [
    "class Net(nn.Module):\n",
    "    # Start by testing a small network built with layers of 100, 100, 30\n",
    "    def __init__(self):\n",
    "        super(Net, self).__init__()\n",
    "        self.fc1 = nn.Linear(X_train_tensor.shape[1], 100)\n",
    "        self.dropout1 = nn.Dropout(0.2)  # Add dropout layer with 20% dropout rate\n",
    "        self.fc2 = nn.Linear(100, 100)\n",
    "        self.dropout2 = nn.Dropout(0.2)  # Add dropout layer with 20% dropout rate\n",
    "        self.fc3 = nn.Linear(100, 30)\n",
    "        self.fc4 = nn.Linear(30, 1)\n",
    "\n",
    "    def forward(self, x):\n",
    "        x = F.relu(self.fc1(x))\n",
    "        x = self.dropout1(x)  # Apply dropout after the first hidden layer\n",
    "        x = F.relu(self.fc2(x))\n",
    "        x = self.dropout2(x)  # Apply dropout after the second hidden layer\n",
    "        x = F.relu(self.fc3(x))\n",
    "        x = self.fc4(x)\n",
    "        return x\n",
    "# model, loss function, and optimizer\n",
    "model = Net()\n",
    "criterion = nn.MSELoss() # MSE (Mean Squared Error)\n",
    "optimizer = optim.Adam(model.parameters(), lr=learning_rate) # Adam is used as an optimizer"
   ]
  },
  {
   "cell_type": "code",
   "execution_count": 14,
   "metadata": {},
   "outputs": [],
   "source": [
    "# class Net(nn.Module):\n",
    "#     def __init__(self, patience=7, verbose=False, delta=0):\n",
    "#         super(Net, self).__init__()\n",
    "#         self.fc1 = nn.Linear(X_train_tensor.shape[1], 100)\n",
    "#         # self.bn1 = nn.BatchNorm1d(100)  # Add batch normalization after the first linear layer\n",
    "#         self.dropout1 = nn.Dropout(0.2)\n",
    "#         self.fc2 = nn.Linear(100, 100)\n",
    "#         # self.bn2 = nn.BatchNorm1d(100)  # Add batch normalization after the second linear layer\n",
    "#         self.dropout2 = nn.Dropout(0.2)\n",
    "#         self.fc3 = nn.Linear(100, 30)\n",
    "#         # self.bn3 = nn.BatchNorm1d(30)   # Add batch normalization after the third linear layer\n",
    "#         self.fc4 = nn.Linear(30, 1)\n",
    "\n",
    "#         self.patience = patience\n",
    "#         self.verbose = verbose\n",
    "#         self.counter = 0\n",
    "#         self.best_score = None\n",
    "#         self.early_stop = False\n",
    "#         self.val_loss_min = np.Inf\n",
    "#         self.delta = delta\n",
    "\n",
    "#     def forward(self, x):\n",
    "#         x = F.relu(self.fc1(x))\n",
    "#         # x = self.bn1(x)  # Apply batch normalization after the first linear layer\n",
    "#         x = self.dropout1(x)\n",
    "#         x = F.relu(self.fc2(x))\n",
    "#         # x = self.bn2(x)  # Apply batch normalization after the second linear layer\n",
    "#         x = self.dropout2(x)\n",
    "#         x = F.relu(self.fc3(x))\n",
    "#         # x = self.bn3(x)  # Apply batch normalization after the third linear layer\n",
    "#         x = self.fc4(x)\n",
    "#         return x\n",
    "    \n",
    "#     def _call_(self, val_loss, model):\n",
    "#         score = -val_loss\n",
    "\n",
    "#         if self.best_score is None:\n",
    "#             self.best_score = score\n",
    "#         elif score < self.best_score + self.delta:\n",
    "#             self.counter += 1\n",
    "#             if self.counter >= self.patience:\n",
    "#                 self.early\n",
    "    \n",
    "# # model, loss function, and optimizer\n",
    "# model = Net()\n",
    "# criterion = nn.MSELoss() # MSE (Mean Squared Error)\n",
    "# # criterion = nn.CrossEntropyLoss()\n",
    "# optimizer = optim.Adam(model.parameters(), lr=learning_rate) # Adam is used as an optimizer"
   ]
  },
  {
   "cell_type": "code",
   "execution_count": 15,
   "metadata": {},
   "outputs": [
    {
     "name": "stdout",
     "output_type": "stream",
     "text": [
      "Epoch [1/10], Training Loss: 0.0715, Validation Loss: 0.0424\n",
      "Epoch [2/10], Training Loss: 0.0454, Validation Loss: 0.0412\n",
      "Epoch [3/10], Training Loss: 0.0418, Validation Loss: 0.0390\n",
      "Epoch [4/10], Training Loss: 0.0399, Validation Loss: 0.0386\n",
      "Epoch [5/10], Training Loss: 0.0388, Validation Loss: 0.0374\n",
      "Epoch [6/10], Training Loss: 0.0383, Validation Loss: 0.0369\n",
      "Epoch [7/10], Training Loss: 0.0380, Validation Loss: 0.0369\n",
      "Epoch [8/10], Training Loss: 0.0376, Validation Loss: 0.0368\n",
      "Epoch [9/10], Training Loss: 0.0375, Validation Loss: 0.0365\n",
      "Epoch [10/10], Training Loss: 0.0372, Validation Loss: 0.0366\n"
     ]
    }
   ],
   "source": [
    "# Train the model\n",
    "\n",
    "# Save losses for further analysis\n",
    "train_losses = []\n",
    "val_losses = []\n",
    "\n",
    "for epoch in range(num_epochs):\n",
    "    model.train()\n",
    "    running_train_loss = 0.0\n",
    "    for inputs, targets in train_loader:\n",
    "        optimizer.zero_grad()\n",
    "        outputs = model(inputs)\n",
    "        loss = criterion(outputs, targets)\n",
    "        loss.backward()\n",
    "        optimizer.step()\n",
    "        running_train_loss += loss.item() * inputs.size(0)\n",
    "    train_loss = running_train_loss / len(train_loader.dataset)\n",
    "    train_losses.append(train_loss)\n",
    "\n",
    "    model.eval()\n",
    "    running_val_loss = 0.0\n",
    "    with torch.no_grad():\n",
    "        for inputs, targets in val_loader:\n",
    "            outputs = model(inputs)\n",
    "            loss = criterion(outputs, targets)\n",
    "            running_val_loss += loss.item() * inputs.size(0)\n",
    "    val_loss = running_val_loss / len(val_loader.dataset)\n",
    "    val_losses.append(val_loss)\n",
    "\n",
    "    print(f'Epoch [{epoch+1}/{num_epochs}], Training Loss: {train_loss:.4f}, Validation Loss: {val_loss:.4f}')\n",
    "\n",
    "    # Early stopping check\n",
    "    if epoch > 0:\n",
    "        if val_loss < val_losses[-2]:\n",
    "            torch.save(model.state_dict(), 'best_model.pt')\n",
    "            counter = 0\n",
    "        else:\n",
    "            counter += 1\n",
    "            if counter >= 7:\n",
    "                print(\"Early stopping...\")\n",
    "                break"
   ]
  },
  {
   "cell_type": "code",
   "execution_count": 16,
   "metadata": {},
   "outputs": [
    {
     "data": {
      "image/png": "[encoded data removed]",
      "text/plain": [
       "<Figure size 1000x500 with 1 Axes>"
      ]
     },
     "metadata": {},
     "output_type": "display_data"
    }
   ],
   "source": [
    "num_epochs = len(train_losses)  # Update to reflect the actual number of epochs trained, useful if early stopping was triggered\n",
    "\n",
    "def smooth_curve(points, factor=0.8):\n",
    "    \"\"\"Smooths the curve for better visualization.\"\"\"\n",
    "    smoothed_points = []\n",
    "    for point in points:\n",
    "        if smoothed_points:\n",
    "            previous = smoothed_points[-1]\n",
    "            smoothed_points.append(previous * factor + point * (1 - factor))\n",
    "        else:\n",
    "            smoothed_points.append(point)\n",
    "    return smoothed_points\n",
    "\n",
    "# Optionally smooth the loss curves\n",
    "train_losses_smooth = smooth_curve(train_losses)\n",
    "val_losses_smooth = smooth_curve(val_losses)\n",
    "\n",
    "plt.figure(figsize=(10, 5))  # Set the figure size for better readability\n",
    "plt.plot(range(1, num_epochs + 1), train_losses_smooth, label='Training Loss')\n",
    "plt.plot(range(1, num_epochs + 1), val_losses_smooth, label='Validation Loss')\n",
    "plt.title('Training and Validation Loss Curves')\n",
    "plt.xlabel('Epoch')\n",
    "plt.ylabel('Loss')\n",
    "plt.grid(True)  # Add grid\n",
    "plt.legend()\n",
    "plt.show()"
   ]
  },
  {
   "cell_type": "code",
   "execution_count": 17,
   "metadata": {},
   "outputs": [
    {
     "name": "stdout",
     "output_type": "stream",
     "text": [
      "Mean Absolute Error (MAE): 0.1297\n",
      "Mean Squared Error (MSE): 0.0371\n"
     ]
    }
   ],
   "source": [
    "# Calculate Mean Absolute Error (MAE)\n",
    "with torch.no_grad():\n",
    "    total_mae = 0.0\n",
    "    for inputs, targets in test_loader:\n",
    "        outputs = model(inputs)\n",
    "        total_mae += torch.mean(torch.abs(outputs - targets)).item()\n",
    "    mae = total_mae / len(test_loader)\n",
    "\n",
    "print(f'Mean Absolute Error (MAE): {mae:.4f}')\n",
    "\n",
    "# Calculate Mean Squared Error (MSE)\n",
    "with torch.no_grad():\n",
    "    total_mse = 0.0\n",
    "    for inputs, targets in test_loader:\n",
    "        outputs = model(inputs)\n",
    "        total_mse += torch.mean((outputs - targets) ** 2).item()\n",
    "    mse = total_mse / len(test_loader)\n",
    "\n",
    "print(f'Mean Squared Error (MSE): {mse:.4f}')\n"
   ]
  },
  {
   "cell_type": "code",
   "execution_count": 18,
   "metadata": {},
   "outputs": [
    {
     "name": "stdout",
     "output_type": "stream",
     "text": [
      "Test Precision: 0.9466, Recall: 0.9844, Accuracy: 0.9458, AUC: 0.9036\n",
      "0.17717073170731706\n"
     ]
    }
   ],
   "source": [
    "from sklearn.metrics import precision_score, recall_score, accuracy_score, roc_auc_score\n",
    "\n",
    "# Initialize lists to store predictions and true values\n",
    "all_predictions = []\n",
    "all_targets = []\n",
    "\n",
    "# Test the model\n",
    "model.eval()\n",
    "with torch.no_grad():\n",
    "    for inputs, targets in test_loader:\n",
    "        outputs = model(inputs)\n",
    "        # Store predictions and true values for evaluation\n",
    "        all_predictions.extend(outputs.numpy().flatten())\n",
    "        # print(all_predictions)\n",
    "        all_targets.extend(targets.numpy().flatten())\n",
    "\n",
    "# Convert predictions and true values to numpy arrays\n",
    "all_predictions = np.array(all_predictions)\n",
    "# print(all_predictions)\n",
    "all_targets = np.array(all_targets)\n",
    "# print(len(all_targets))\n",
    "\n",
    "binary_classification_threshold = 0.85\n",
    "abs_difference_threshold = 0.35\n",
    "\n",
    "# Check if the absolute difference is smaller than the threshold\n",
    "abs_difference = np.abs(all_predictions - all_targets)\n",
    "abs_difference_mask = abs_difference <= abs_difference_threshold\n",
    "\n",
    "# Convert to binary classification based on threshold\n",
    "binary_predictions = np.where(all_predictions >= binary_classification_threshold, 1, 0)\n",
    "# print(binary_predictions)\n",
    "binary_targets = np.where(all_targets >= binary_classification_threshold, 1, 0)\n",
    "# print(binary_targets)\n",
    "\n",
    "for i in range(len(binary_predictions)):\n",
    "    if abs_difference_mask[i] == True:\n",
    "        binary_predictions[i] = binary_targets[i]\n",
    "\n",
    "# Calculate precision, recall, accuracy, and AUC\n",
    "precision = precision_score(binary_targets, binary_predictions)\n",
    "recall = recall_score(binary_targets, binary_predictions)\n",
    "accuracy = accuracy_score(binary_targets, binary_predictions)\n",
    "auc = roc_auc_score(binary_targets, binary_predictions)\n",
    "\n",
    "print(f'Test Precision: {precision:.4f}, Recall: {recall:.4f}, Accuracy: {accuracy:.4f}, AUC: {auc:.4f}')\n",
    "\n",
    "# Calculate false alarm rate (FPR)\n",
    "# False alarm rate = false positives / (false positives + true negatives)\n",
    "true_negatives = np.sum((binary_targets == 0) & (binary_predictions == 0))\n",
    "false_positives = np.sum((binary_targets == 0) & (binary_predictions == 1))\n",
    "false_alarm_rate = false_positives / (false_positives + true_negatives)\n",
    "\n",
    "print(false_alarm_rate)"
   ]
  },
  {
   "cell_type": "code",
   "execution_count": 19,
   "metadata": {},
   "outputs": [
    {
     "name": "stdout",
     "output_type": "stream",
     "text": [
      "Confusion Matrix:\n",
      "[[ 4217   908]\n",
      " [  255 16089]]\n"
     ]
    },
    {
     "data": {
      "image/png": "[encoded data removed]",
      "text/plain": [
       "<Figure size 800x600 with 2 Axes>"
      ]
     },
     "metadata": {},
     "output_type": "display_data"
    }
   ],
   "source": [
    "# Calculate and display the confusion matrix\n",
    "from sklearn.metrics import confusion_matrix\n",
    "import seaborn as sns\n",
    "\n",
    "\n",
    "cm = confusion_matrix(binary_targets, binary_predictions)\n",
    "print(\"Confusion Matrix:\")\n",
    "print(cm)\n",
    "\n",
    "# Plot the confusion matrix using seaborn\n",
    "plt.figure(figsize=(8, 6))\n",
    "sns.heatmap(cm, annot=True, fmt='d', cmap='Blues', xticklabels=['Negative', 'Positive'], yticklabels=['Negative', 'Positive'])\n",
    "plt.xlabel('Predicted Label')\n",
    "plt.ylabel('True Label')\n",
    "plt.title('Confusion Matrix')\n",
    "plt.show()"
   ]
  },
  {
   "cell_type": "code",
   "execution_count": 23,
   "metadata": {},
   "outputs": [
    {
     "name": "stdout",
     "output_type": "stream",
     "text": [
      "Provided model function fails when applied to the provided data set.\n"
     ]
    },
    {
     "ename": "TypeError",
     "evalue": "linear(): argument 'input' (position 1) must be Tensor, not numpy.ndarray",
     "output_type": "error",
     "traceback": [
      "\u001b[0;31m---------------------------------------------------------------------------\u001b[0m",
      "\u001b[0;31mTypeError\u001b[0m                                 Traceback (most recent call last)",
      "Input \u001b[0;32mIn [23]\u001b[0m, in \u001b[0;36m<cell line: 8>\u001b[0;34m()\u001b[0m\n\u001b[1;32m      5\u001b[0m X_test_numpy \u001b[38;5;241m=\u001b[39m X_test_tensor\u001b[38;5;241m.\u001b[39mnumpy()\n\u001b[1;32m      7\u001b[0m \u001b[38;5;66;03m# Create a SHAP explainer object using KernelExplainer\u001b[39;00m\n\u001b[0;32m----> 8\u001b[0m explainer \u001b[38;5;241m=\u001b[39m \u001b[43mshap\u001b[49m\u001b[38;5;241;43m.\u001b[39;49m\u001b[43mKernelExplainer\u001b[49m\u001b[43m(\u001b[49m\u001b[43mmodel\u001b[49m\u001b[43m,\u001b[49m\u001b[43m \u001b[49m\u001b[43mX_train_numpy\u001b[49m\u001b[43m)\u001b[49m\n\u001b[1;32m      9\u001b[0m \u001b[38;5;28mprint\u001b[39m(\u001b[38;5;241m1\u001b[39m)\n\u001b[1;32m     11\u001b[0m \u001b[38;5;66;03m# Calculate SHAP values for the validation set\u001b[39;00m\n",
      "File \u001b[0;32m/Library/Frameworks/Python.framework/Versions/3.10/lib/python3.10/site-packages/shap/explainers/_kernel.py:97\u001b[0m, in \u001b[0;36mKernelExplainer.__init__\u001b[0;34m(self, model, data, feature_names, link, **kwargs)\u001b[0m\n\u001b[1;32m     95\u001b[0m \u001b[38;5;28mself\u001b[39m\u001b[38;5;241m.\u001b[39mmodel \u001b[38;5;241m=\u001b[39m convert_to_model(model, keep_index\u001b[38;5;241m=\u001b[39m\u001b[38;5;28mself\u001b[39m\u001b[38;5;241m.\u001b[39mkeep_index)\n\u001b[1;32m     96\u001b[0m \u001b[38;5;28mself\u001b[39m\u001b[38;5;241m.\u001b[39mdata \u001b[38;5;241m=\u001b[39m convert_to_data(data, keep_index\u001b[38;5;241m=\u001b[39m\u001b[38;5;28mself\u001b[39m\u001b[38;5;241m.\u001b[39mkeep_index)\n\u001b[0;32m---> 97\u001b[0m model_null \u001b[38;5;241m=\u001b[39m \u001b[43mmatch_model_to_data\u001b[49m\u001b[43m(\u001b[49m\u001b[38;5;28;43mself\u001b[39;49m\u001b[38;5;241;43m.\u001b[39;49m\u001b[43mmodel\u001b[49m\u001b[43m,\u001b[49m\u001b[43m \u001b[49m\u001b[38;5;28;43mself\u001b[39;49m\u001b[38;5;241;43m.\u001b[39;49m\u001b[43mdata\u001b[49m\u001b[43m)\u001b[49m\n\u001b[1;32m     99\u001b[0m \u001b[38;5;66;03m# enforce our current input type limitations\u001b[39;00m\n\u001b[1;32m    100\u001b[0m \u001b[38;5;28;01mif\u001b[39;00m \u001b[38;5;129;01mnot\u001b[39;00m \u001b[38;5;28misinstance\u001b[39m(\u001b[38;5;28mself\u001b[39m\u001b[38;5;241m.\u001b[39mdata, (DenseData, SparseData)):\n",
      "File \u001b[0;32m/Library/Frameworks/Python.framework/Versions/3.10/lib/python3.10/site-packages/shap/utils/_legacy.py:139\u001b[0m, in \u001b[0;36mmatch_model_to_data\u001b[0;34m(model, data)\u001b[0m\n\u001b[1;32m    137\u001b[0m         out_val \u001b[38;5;241m=\u001b[39m model\u001b[38;5;241m.\u001b[39mf(data\u001b[38;5;241m.\u001b[39mconvert_to_df())\n\u001b[1;32m    138\u001b[0m     \u001b[38;5;28;01melse\u001b[39;00m:\n\u001b[0;32m--> 139\u001b[0m         out_val \u001b[38;5;241m=\u001b[39m \u001b[43mmodel\u001b[49m\u001b[38;5;241;43m.\u001b[39;49m\u001b[43mf\u001b[49m\u001b[43m(\u001b[49m\u001b[43mdata\u001b[49m\u001b[38;5;241;43m.\u001b[39;49m\u001b[43mdata\u001b[49m\u001b[43m)\u001b[49m\n\u001b[1;32m    140\u001b[0m \u001b[38;5;28;01mexcept\u001b[39;00m \u001b[38;5;167;01mException\u001b[39;00m:\n\u001b[1;32m    141\u001b[0m     \u001b[38;5;28mprint\u001b[39m(\u001b[38;5;124m\"\u001b[39m\u001b[38;5;124mProvided model function fails when applied to the provided data set.\u001b[39m\u001b[38;5;124m\"\u001b[39m)\n",
      "File \u001b[0;32m/Library/Frameworks/Python.framework/Versions/3.10/lib/python3.10/site-packages/torch/nn/modules/module.py:1511\u001b[0m, in \u001b[0;36mModule._wrapped_call_impl\u001b[0;34m(self, *args, **kwargs)\u001b[0m\n\u001b[1;32m   1509\u001b[0m     \u001b[38;5;28;01mreturn\u001b[39;00m \u001b[38;5;28mself\u001b[39m\u001b[38;5;241m.\u001b[39m_compiled_call_impl(\u001b[38;5;241m*\u001b[39margs, \u001b[38;5;241m*\u001b[39m\u001b[38;5;241m*\u001b[39mkwargs)  \u001b[38;5;66;03m# type: ignore[misc]\u001b[39;00m\n\u001b[1;32m   1510\u001b[0m \u001b[38;5;28;01melse\u001b[39;00m:\n\u001b[0;32m-> 1511\u001b[0m     \u001b[38;5;28;01mreturn\u001b[39;00m \u001b[38;5;28;43mself\u001b[39;49m\u001b[38;5;241;43m.\u001b[39;49m\u001b[43m_call_impl\u001b[49m\u001b[43m(\u001b[49m\u001b[38;5;241;43m*\u001b[39;49m\u001b[43margs\u001b[49m\u001b[43m,\u001b[49m\u001b[43m \u001b[49m\u001b[38;5;241;43m*\u001b[39;49m\u001b[38;5;241;43m*\u001b[39;49m\u001b[43mkwargs\u001b[49m\u001b[43m)\u001b[49m\n",
      "File \u001b[0;32m/Library/Frameworks/Python.framework/Versions/3.10/lib/python3.10/site-packages/torch/nn/modules/module.py:1520\u001b[0m, in \u001b[0;36mModule._call_impl\u001b[0;34m(self, *args, **kwargs)\u001b[0m\n\u001b[1;32m   1515\u001b[0m \u001b[38;5;66;03m# If we don't have any hooks, we want to skip the rest of the logic in\u001b[39;00m\n\u001b[1;32m   1516\u001b[0m \u001b[38;5;66;03m# this function, and just call forward.\u001b[39;00m\n\u001b[1;32m   1517\u001b[0m \u001b[38;5;28;01mif\u001b[39;00m \u001b[38;5;129;01mnot\u001b[39;00m (\u001b[38;5;28mself\u001b[39m\u001b[38;5;241m.\u001b[39m_backward_hooks \u001b[38;5;129;01mor\u001b[39;00m \u001b[38;5;28mself\u001b[39m\u001b[38;5;241m.\u001b[39m_backward_pre_hooks \u001b[38;5;129;01mor\u001b[39;00m \u001b[38;5;28mself\u001b[39m\u001b[38;5;241m.\u001b[39m_forward_hooks \u001b[38;5;129;01mor\u001b[39;00m \u001b[38;5;28mself\u001b[39m\u001b[38;5;241m.\u001b[39m_forward_pre_hooks\n\u001b[1;32m   1518\u001b[0m         \u001b[38;5;129;01mor\u001b[39;00m _global_backward_pre_hooks \u001b[38;5;129;01mor\u001b[39;00m _global_backward_hooks\n\u001b[1;32m   1519\u001b[0m         \u001b[38;5;129;01mor\u001b[39;00m _global_forward_hooks \u001b[38;5;129;01mor\u001b[39;00m _global_forward_pre_hooks):\n\u001b[0;32m-> 1520\u001b[0m     \u001b[38;5;28;01mreturn\u001b[39;00m \u001b[43mforward_call\u001b[49m\u001b[43m(\u001b[49m\u001b[38;5;241;43m*\u001b[39;49m\u001b[43margs\u001b[49m\u001b[43m,\u001b[49m\u001b[43m \u001b[49m\u001b[38;5;241;43m*\u001b[39;49m\u001b[38;5;241;43m*\u001b[39;49m\u001b[43mkwargs\u001b[49m\u001b[43m)\u001b[49m\n\u001b[1;32m   1522\u001b[0m \u001b[38;5;28;01mtry\u001b[39;00m:\n\u001b[1;32m   1523\u001b[0m     result \u001b[38;5;241m=\u001b[39m \u001b[38;5;28;01mNone\u001b[39;00m\n",
      "Input \u001b[0;32mIn [13]\u001b[0m, in \u001b[0;36mNet.forward\u001b[0;34m(self, x)\u001b[0m\n\u001b[1;32m     12\u001b[0m \u001b[38;5;28;01mdef\u001b[39;00m \u001b[38;5;21mforward\u001b[39m(\u001b[38;5;28mself\u001b[39m, x):\n\u001b[0;32m---> 13\u001b[0m     x \u001b[38;5;241m=\u001b[39m F\u001b[38;5;241m.\u001b[39mrelu(\u001b[38;5;28;43mself\u001b[39;49m\u001b[38;5;241;43m.\u001b[39;49m\u001b[43mfc1\u001b[49m\u001b[43m(\u001b[49m\u001b[43mx\u001b[49m\u001b[43m)\u001b[49m)\n\u001b[1;32m     14\u001b[0m     x \u001b[38;5;241m=\u001b[39m \u001b[38;5;28mself\u001b[39m\u001b[38;5;241m.\u001b[39mdropout1(x)  \u001b[38;5;66;03m# Apply dropout after the first hidden layer\u001b[39;00m\n\u001b[1;32m     15\u001b[0m     x \u001b[38;5;241m=\u001b[39m F\u001b[38;5;241m.\u001b[39mrelu(\u001b[38;5;28mself\u001b[39m\u001b[38;5;241m.\u001b[39mfc2(x))\n",
      "File \u001b[0;32m/Library/Frameworks/Python.framework/Versions/3.10/lib/python3.10/site-packages/torch/nn/modules/module.py:1511\u001b[0m, in \u001b[0;36mModule._wrapped_call_impl\u001b[0;34m(self, *args, **kwargs)\u001b[0m\n\u001b[1;32m   1509\u001b[0m     \u001b[38;5;28;01mreturn\u001b[39;00m \u001b[38;5;28mself\u001b[39m\u001b[38;5;241m.\u001b[39m_compiled_call_impl(\u001b[38;5;241m*\u001b[39margs, \u001b[38;5;241m*\u001b[39m\u001b[38;5;241m*\u001b[39mkwargs)  \u001b[38;5;66;03m# type: ignore[misc]\u001b[39;00m\n\u001b[1;32m   1510\u001b[0m \u001b[38;5;28;01melse\u001b[39;00m:\n\u001b[0;32m-> 1511\u001b[0m     \u001b[38;5;28;01mreturn\u001b[39;00m \u001b[38;5;28;43mself\u001b[39;49m\u001b[38;5;241;43m.\u001b[39;49m\u001b[43m_call_impl\u001b[49m\u001b[43m(\u001b[49m\u001b[38;5;241;43m*\u001b[39;49m\u001b[43margs\u001b[49m\u001b[43m,\u001b[49m\u001b[43m \u001b[49m\u001b[38;5;241;43m*\u001b[39;49m\u001b[38;5;241;43m*\u001b[39;49m\u001b[43mkwargs\u001b[49m\u001b[43m)\u001b[49m\n",
      "File \u001b[0;32m/Library/Frameworks/Python.framework/Versions/3.10/lib/python3.10/site-packages/torch/nn/modules/module.py:1520\u001b[0m, in \u001b[0;36mModule._call_impl\u001b[0;34m(self, *args, **kwargs)\u001b[0m\n\u001b[1;32m   1515\u001b[0m \u001b[38;5;66;03m# If we don't have any hooks, we want to skip the rest of the logic in\u001b[39;00m\n\u001b[1;32m   1516\u001b[0m \u001b[38;5;66;03m# this function, and just call forward.\u001b[39;00m\n\u001b[1;32m   1517\u001b[0m \u001b[38;5;28;01mif\u001b[39;00m \u001b[38;5;129;01mnot\u001b[39;00m (\u001b[38;5;28mself\u001b[39m\u001b[38;5;241m.\u001b[39m_backward_hooks \u001b[38;5;129;01mor\u001b[39;00m \u001b[38;5;28mself\u001b[39m\u001b[38;5;241m.\u001b[39m_backward_pre_hooks \u001b[38;5;129;01mor\u001b[39;00m \u001b[38;5;28mself\u001b[39m\u001b[38;5;241m.\u001b[39m_forward_hooks \u001b[38;5;129;01mor\u001b[39;00m \u001b[38;5;28mself\u001b[39m\u001b[38;5;241m.\u001b[39m_forward_pre_hooks\n\u001b[1;32m   1518\u001b[0m         \u001b[38;5;129;01mor\u001b[39;00m _global_backward_pre_hooks \u001b[38;5;129;01mor\u001b[39;00m _global_backward_hooks\n\u001b[1;32m   1519\u001b[0m         \u001b[38;5;129;01mor\u001b[39;00m _global_forward_hooks \u001b[38;5;129;01mor\u001b[39;00m _global_forward_pre_hooks):\n\u001b[0;32m-> 1520\u001b[0m     \u001b[38;5;28;01mreturn\u001b[39;00m \u001b[43mforward_call\u001b[49m\u001b[43m(\u001b[49m\u001b[38;5;241;43m*\u001b[39;49m\u001b[43margs\u001b[49m\u001b[43m,\u001b[49m\u001b[43m \u001b[49m\u001b[38;5;241;43m*\u001b[39;49m\u001b[38;5;241;43m*\u001b[39;49m\u001b[43mkwargs\u001b[49m\u001b[43m)\u001b[49m\n\u001b[1;32m   1522\u001b[0m \u001b[38;5;28;01mtry\u001b[39;00m:\n\u001b[1;32m   1523\u001b[0m     result \u001b[38;5;241m=\u001b[39m \u001b[38;5;28;01mNone\u001b[39;00m\n",
      "File \u001b[0;32m/Library/Frameworks/Python.framework/Versions/3.10/lib/python3.10/site-packages/torch/nn/modules/linear.py:116\u001b[0m, in \u001b[0;36mLinear.forward\u001b[0;34m(self, input)\u001b[0m\n\u001b[1;32m    115\u001b[0m \u001b[38;5;28;01mdef\u001b[39;00m \u001b[38;5;21mforward\u001b[39m(\u001b[38;5;28mself\u001b[39m, \u001b[38;5;28minput\u001b[39m: Tensor) \u001b[38;5;241m-\u001b[39m\u001b[38;5;241m>\u001b[39m Tensor:\n\u001b[0;32m--> 116\u001b[0m     \u001b[38;5;28;01mreturn\u001b[39;00m \u001b[43mF\u001b[49m\u001b[38;5;241;43m.\u001b[39;49m\u001b[43mlinear\u001b[49m\u001b[43m(\u001b[49m\u001b[38;5;28;43minput\u001b[39;49m\u001b[43m,\u001b[49m\u001b[43m \u001b[49m\u001b[38;5;28;43mself\u001b[39;49m\u001b[38;5;241;43m.\u001b[39;49m\u001b[43mweight\u001b[49m\u001b[43m,\u001b[49m\u001b[43m \u001b[49m\u001b[38;5;28;43mself\u001b[39;49m\u001b[38;5;241;43m.\u001b[39;49m\u001b[43mbias\u001b[49m\u001b[43m)\u001b[49m\n",
      "\u001b[0;31mTypeError\u001b[0m: linear(): argument 'input' (position 1) must be Tensor, not numpy.ndarray"
     ]
    }
   ],
   "source": [
    "import shap\n",
    "\n",
    "# Convert PyTorch tensors to NumPy arrays\n",
    "X_train_numpy = X_train_tensor.numpy()\n",
    "X_test_numpy = X_test_tensor.numpy()\n",
    "\n",
    "# Create a SHAP explainer object using KernelExplainer\n",
    "explainer = shap.KernelExplainer(model, X_train_numpy)\n",
    "print(1)\n",
    "\n",
    "# Calculate SHAP values for the validation set\n",
    "shap_values = explainer.shap_values(X_test_numpy)\n",
    "print(2)\n",
    "\n",
    "# Plotting the SHAP values\n",
    "shap.summary_plot(shap_values, X_test_numpy, feature_names=list(X_train.columns))"
   ]
  },
  {
   "cell_type": "code",
   "execution_count": null,
   "metadata": {},
   "outputs": [],
   "source": [
    "import xgboost as xgb\n",
    "from sklearn.ensemble import RandomForestClassifier\n",
    "from sklearn.metrics import precision_score, recall_score, accuracy_score, roc_auc_score\n",
    "\n",
    "# Define a threshold for binary classification\n",
    "threshold = 0.8\n",
    "\n",
    "# Convert target variable to binary labels based on the threshold\n",
    "binary_y_train = np.where(y_train >= threshold, 1, 0)\n",
    "\n",
    "# Define and train XGBoost model\n",
    "xgb_model = xgb.XGBClassifier(use_label_encoder=False, eval_metric='logloss')\n",
    "xgb_model.fit(X_train_scaled, binary_y_train)\n",
    "\n",
    "# Test XGBoost model\n",
    "y_pred_proba = xgb_model.predict_proba(X_test_scaled)[:, 1]\n",
    "\n",
    "# Convert probabilities to binary predictions based on threshold\n",
    "binary_predictions_xgb = np.where(y_pred_proba >= threshold, 1, 0)\n",
    "\n",
    "# Calculate precision, recall, accuracy, and AUC for XGBoost model\n",
    "precision_xgb = precision_score(binary_targets, binary_predictions_xgb)\n",
    "recall_xgb = recall_score(binary_targets, binary_predictions_xgb)\n",
    "accuracy_xgb = accuracy_score(binary_targets, binary_predictions_xgb)\n",
    "auc_xgb = roc_auc_score(binary_targets, y_pred_proba)\n",
    "\n",
    "# Print evaluation metrics for XGBoost model\n",
    "print(f'XGBoost Test Precision: {precision_xgb:.4f}, Recall: {recall_xgb:.4f}, Accuracy: {accuracy_xgb:.4f}, AUC: {auc_xgb:.4f}')\n",
    "\n",
    "# Define Random Forest model\n",
    "rf_model = RandomForestClassifier(n_estimators=100)\n",
    "\n",
    "binary_y_train = np.where(y_train >= threshold, 1, 0)\n",
    "\n",
    "# Train Random Forest model\n",
    "rf_model.fit(X_train_scaled, binary_y_train)\n",
    "\n",
    "# Test Random Forest model\n",
    "y_pred_proba_rf = rf_model.predict_proba(X_test_scaled)[:, 1]\n",
    "\n",
    "# Convert probabilities to binary predictions based on threshold\n",
    "binary_predictions_rf = np.where(y_pred_proba_rf >= threshold, 1, 0)\n",
    "\n",
    "# Calculate precision, recall, accuracy, and AUC for Random Forest model\n",
    "precision_rf = precision_score(binary_targets, binary_predictions_rf)\n",
    "recall_rf = recall_score(binary_targets, binary_predictions_rf)\n",
    "accuracy_rf = accuracy_score(binary_targets, binary_predictions_rf)\n",
    "auc_rf = roc_auc_score(binary_targets, y_pred_proba_rf)\n",
    "\n",
    "# Print evaluation metrics for Random Forest model\n",
    "print(f'Random Forest Test Precision: {precision_rf:.4f}, Recall: {recall_rf:.4f}, Accuracy: {accuracy_rf:.4f}, AUC: {auc_rf:.4f}')\n"
   ]
  },
  {
   "cell_type": "markdown",
   "metadata": {},
   "source": [
    "XGBoost Test Precision: 0.9036, Recall: 0.8010, Accuracy: 0.7707, AUC: 0.7977\n",
    "\n",
    "Random Forest Test Precision: 0.9168, Recall: 0.7402, Accuracy: 0.7365, AUC: 0.8086"
   ]
  },
  {
   "cell_type": "code",
   "execution_count": null,
   "metadata": {},
   "outputs": [],
   "source": [
    "# # Set option to display all columns\n",
    "# pd.set_option('display.max_columns', None)\n",
    "\n",
    "# # Set option to display all rows\n",
    "# pd.set_option('display.max_rows', None)"
   ]
  }
 ],
 "metadata": {
  "kernelspec": {
   "display_name": "Python 3",
   "language": "python",
   "name": "python3"
  },
  "language_info": {
   "codemirror_mode": {
    "name": "ipython",
    "version": 3
   },
   "file_extension": ".py",
   "mimetype": "text/x-python",
   "name": "python",
   "nbconvert_exporter": "python",
   "pygments_lexer": "ipython3",
   "version": "3.10.0"
  }
 },
 "nbformat": 4,
 "nbformat_minor": 2
}
