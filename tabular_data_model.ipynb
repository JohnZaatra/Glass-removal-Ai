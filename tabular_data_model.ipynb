{
 "cells": [
  {
   "cell_type": "code",
   "execution_count": 1,
   "metadata": {},
   "outputs": [],
   "source": [
    "import pandas as pd\n",
    "import torch\n",
    "import torch.nn as nn\n",
    "import torch.nn.functional as F\n",
    "import torch.optim as optim\n",
    "from torch.utils.data import DataLoader, TensorDataset\n",
    "\n",
    "\n",
    "from sklearn.preprocessing import LabelEncoder\n",
    "from sklearn.model_selection import train_test_split\n",
    "from sklearn.discriminant_analysis import StandardScaler\n",
    "\n",
    "import pandas as pd\n",
    "import numpy as np\n",
    "from matplotlib import pyplot as plt"
   ]
  },
  {
   "cell_type": "code",
   "execution_count": 2,
   "metadata": {},
   "outputs": [
    {
     "name": "stdout",
     "output_type": "stream",
     "text": [
      "        Ocular Treatment ID    File   Age Gender    Eye Dominant Eye  \\\n",
      "0  267292-Right-Treatment-1  267292  51.0      M  Right           OD   \n",
      "1   267292-Left-Treatment-1  267292  51.0      M   Left           OD   \n",
      "2  271122-Right-Treatment-1  271122  31.0      M  Right           OD   \n",
      "3   271122-Left-Treatment-1  271122  31.0      M   Left           OD   \n",
      "4  274004-Right-Treatment-1  274004  44.0      F  Right           OS   \n",
      "\n",
      "   Pachymetry  PRE-OP Average K  Pre-op K  Axis min  UCVA  ...  Alchohol  \\\n",
      "0       559.0             43.80                10.0  0.30  ...      -2.0   \n",
      "1       573.0             44.07               160.0  0.30  ...      -2.0   \n",
      "2       557.0             45.59                 3.0  0.35  ...      -2.0   \n",
      "3       556.0             45.44               178.0  0.35  ...      -2.0   \n",
      "4       513.0             46.51               177.0  0.01  ...      -2.0   \n",
      "\n",
      "   PTK mmm  MZ sec  Therapeutic Cont L  Rotation Angle Degrees  \\\n",
      "0     -2.0    -2.0                  No                     0.0   \n",
      "1     -2.0    -2.0                  No                     0.0   \n",
      "2     -2.0    -2.0                  No                     0.0   \n",
      "3     -2.0    -2.0                  No                     0.0   \n",
      "4     -2.0    -2.0                  No                    -1.5   \n",
      "\n",
      "   Last_Target Sph  Last_UCVA Merge_Contact Lens  Season  Era  \n",
      "0                0       0.95                1.0       2    3  \n",
      "1               -2       0.40                1.0       2    3  \n",
      "2                0       0.95                1.0       2    3  \n",
      "3                0       0.85                1.0       2    3  \n",
      "4               -1       0.35                1.0       3    3  \n",
      "\n",
      "[5 rows x 35 columns]\n"
     ]
    }
   ],
   "source": [
    "df = pd.read_csv('/Users/john-zaatri/Desktop/semester 7/פרויקט מסכם/tabular data/processed_data.csv')\n",
    "\n",
    "print(df.head())"
   ]
  },
  {
   "cell_type": "code",
   "execution_count": 3,
   "metadata": {},
   "outputs": [],
   "source": [
    "# Drop relevant columns\n",
    "df.drop(columns=['Op.Time'], inplace=True)\n",
    "df.drop(columns=['Last_Target Sph'], inplace=True)"
   ]
  },
  {
   "cell_type": "code",
   "execution_count": 4,
   "metadata": {},
   "outputs": [
    {
     "name": "stdout",
     "output_type": "stream",
     "text": [
      "Ocular Treatment ID        object\n",
      "File                        int64\n",
      "Age                       float64\n",
      "Gender                     object\n",
      "Eye                        object\n",
      "Dominant Eye               object\n",
      "Pachymetry                float64\n",
      "PRE-OP Average K          float64\n",
      "Pre-op K  Axis min        float64\n",
      "UCVA                      float64\n",
      "Subjective SEQ            float64\n",
      "Subjective Cyl Axis       float64\n",
      "Subjective BCVA           float64\n",
      "Treatment SEQ             float64\n",
      "Treatment Param Axis      float64\n",
      "Opt Zo                    float64\n",
      "Max Abl Depth             float64\n",
      "Treatment Type             object\n",
      "Humidity                  float64\n",
      "Temp                      float64\n",
      "Micro                      object\n",
      "Ring                      float64\n",
      "Stop                      float64\n",
      "Head                       object\n",
      "Alchohol                  float64\n",
      "PTK mmm                   float64\n",
      "MZ sec                    float64\n",
      "Therapeutic Cont L         object\n",
      "Rotation Angle Degrees    float64\n",
      "Last_UCVA                 float64\n",
      "Merge_Contact Lens        float64\n",
      "Season                      int64\n",
      "Era                         int64\n",
      "dtype: object\n"
     ]
    }
   ],
   "source": [
    "print(df.dtypes)"
   ]
  },
  {
   "cell_type": "code",
   "execution_count": 5,
   "metadata": {},
   "outputs": [],
   "source": [
    "# Preprocess the data (convert non numeric data types to label encoder)\n",
    "label_encoders = {}\n",
    "for col in df.select_dtypes(include=['object']).columns:\n",
    "    if col != \"Ocular Treatment ID\": ############################### check\n",
    "        label_encoders[col] = LabelEncoder()\n",
    "        df[col] = label_encoders[col].fit_transform(df[col])"
   ]
  },
  {
   "cell_type": "code",
   "execution_count": 6,
   "metadata": {},
   "outputs": [],
   "source": [
    "# for col, encoder in label_encoders.items():\n",
    "#     print(f\"Column: {col}\")\n",
    "#     print(\"Encoded Values:\")\n",
    "#     for original_value, encoded_value in zip(encoder.classes_, encoder.transform(encoder.classes_)):\n",
    "#         print(f\"{original_value}: {encoded_value}\")\n",
    "#     print()\n"
   ]
  },
  {
   "cell_type": "code",
   "execution_count": 7,
   "metadata": {},
   "outputs": [
    {
     "name": "stdout",
     "output_type": "stream",
     "text": [
      "115551\n"
     ]
    }
   ],
   "source": [
    "print(len(df))"
   ]
  },
  {
   "cell_type": "code",
   "execution_count": 8,
   "metadata": {},
   "outputs": [],
   "source": [
    "# List of encoded treatment types\n",
    "treatment_types = [0, 1, 2]  # Femto Lasik, Lasik, PRK\n",
    "\n",
    "# Initialize dictionaries to hold train, validation, and test data (for each treatment type)\n",
    "train_data = {}\n",
    "val_data = {}\n",
    "test_data = {}\n",
    "\n",
    "# Loop over each treatment type\n",
    "for treatment_type in treatment_types:\n",
    "    # Filter data for the current treatment type\n",
    "    treatment_data = df[df['Treatment Type'] == treatment_type]\n",
    "    \n",
    "    # Split the data into train and test sets (80% train, 20% test)\n",
    "    train_data[treatment_type], test_data[treatment_type] = train_test_split(treatment_data, test_size=0.2, random_state=42)\n",
    "    \n",
    "    # Further split the train data into train and validation sets (80% train, 20% validation)\n",
    "    train_data[treatment_type], val_data[treatment_type] = train_test_split(train_data[treatment_type], test_size=0.2, random_state=42)\n",
    "\n",
    "# Concatenate data from all treatment types\n",
    "train_data_all = pd.concat(train_data.values())\n",
    "val_data_all = pd.concat(val_data.values())\n",
    "test_data_all = pd.concat(test_data.values())"
   ]
  },
  {
   "cell_type": "code",
   "execution_count": 9,
   "metadata": {},
   "outputs": [],
   "source": [
    "# Drop the target columns and also Ocular Treatment ID, File columns\n",
    "X_train = train_data_all.drop(columns=['Last_UCVA', 'Ocular Treatment ID', 'File'])\n",
    "X_val = val_data_all.drop(columns=['Last_UCVA', 'Ocular Treatment ID', 'File'])\n",
    "X_test = test_data_all.drop(columns=['Last_UCVA', 'Ocular Treatment ID', 'File'])\n",
    "\n",
    "# Extract the target variable\n",
    "y_train = train_data_all['Last_UCVA']\n",
    "y_val = val_data_all['Last_UCVA']\n",
    "y_test = test_data_all['Last_UCVA']"
   ]
  },
  {
   "cell_type": "code",
   "execution_count": 10,
   "metadata": {},
   "outputs": [],
   "source": [
    "# Scaler can help us scale the data before feeding it to the model, this way we reduce the bias to help the model learn better from the data\n",
    "scaler = StandardScaler()\n",
    "X_train_scaled = scaler.fit_transform(X_train)\n",
    "X_val_scaled = scaler.transform(X_val)\n",
    "X_test_scaled = scaler.transform(X_test)"
   ]
  },
  {
   "cell_type": "code",
   "execution_count": 11,
   "metadata": {},
   "outputs": [],
   "source": [
    "# Building tensors for the model\n",
    "X_train_tensor = torch.tensor(X_train_scaled.astype(np.float32))\n",
    "X_val_tensor = torch.tensor(X_val_scaled.astype(np.float32))\n",
    "X_test_tensor = torch.tensor(X_test_scaled.astype(np.float32))\n",
    "y_train_tensor = torch.tensor(y_train.values.astype(np.float32)).unsqueeze(1)\n",
    "y_val_tensor = torch.tensor(y_val.values.astype(np.float32)).unsqueeze(1)\n",
    "y_test_tensor = torch.tensor(y_test.values.astype(np.float32)).unsqueeze(1)"
   ]
  },
  {
   "cell_type": "code",
   "execution_count": 19,
   "metadata": {},
   "outputs": [],
   "source": [
    "# Hyperparameters\n",
    "num_epochs = 10\n",
    "batch_size = 32\n",
    "learning_rate = 0.0001"
   ]
  },
  {
   "cell_type": "code",
   "execution_count": 20,
   "metadata": {},
   "outputs": [],
   "source": [
    "class Net(nn.Module):\n",
    "    # Start by testing a small network built with layers of 100, 100, 30\n",
    "    def __init__(self):\n",
    "        super(Net, self).__init__()\n",
    "        self.fc1 = nn.Linear(X_train_tensor.shape[1], 100)\n",
    "        self.fc2 = nn.Linear(100, 100)\n",
    "        self.fc3 = nn.Linear(100, 30)\n",
    "        self.fc4 = nn.Linear(30, 1)\n",
    "\n",
    "    def forward(self, x):\n",
    "        x = F.relu(self.fc1(x))\n",
    "        x = F.relu(self.fc2(x))\n",
    "        x = F.relu(self.fc3(x))\n",
    "        x = self.fc4(x)\n",
    "        return x\n",
    "    \n",
    "# model, loss function, and optimizer\n",
    "model = Net()\n",
    "criterion = nn.MSELoss() # MSE (Mean Squared Error)\n",
    "optimizer = optim.Adam(model.parameters(), lr=learning_rate) # Adam is used as an optimizer"
   ]
  },
  {
   "cell_type": "code",
   "execution_count": 21,
   "metadata": {},
   "outputs": [],
   "source": [
    "# Data loaders\n",
    "train_loader = DataLoader(TensorDataset(X_train_tensor, y_train_tensor), batch_size=batch_size, shuffle=True)\n",
    "val_loader = DataLoader(TensorDataset(X_val_tensor, y_val_tensor), batch_size=batch_size)\n",
    "test_loader = DataLoader(TensorDataset(X_test_tensor, y_test_tensor), batch_size=batch_size)"
   ]
  },
  {
   "cell_type": "code",
   "execution_count": 22,
   "metadata": {},
   "outputs": [
    {
     "name": "stdout",
     "output_type": "stream",
     "text": [
      "Epoch [1/10], Training Loss: 0.0872, Validation Loss: 0.1255\n",
      "Epoch [2/10], Training Loss: 0.0505, Validation Loss: 0.0779\n",
      "Epoch [3/10], Training Loss: 0.0476, Validation Loss: 0.0490\n",
      "Epoch [4/10], Training Loss: 0.0461, Validation Loss: 0.0459\n",
      "Epoch [5/10], Training Loss: 0.0456, Validation Loss: 0.0453\n",
      "Epoch [6/10], Training Loss: 0.0447, Validation Loss: 0.0474\n",
      "Epoch [7/10], Training Loss: 0.0441, Validation Loss: 0.0467\n",
      "Epoch [8/10], Training Loss: 0.0435, Validation Loss: 0.0421\n",
      "Epoch [9/10], Training Loss: 0.0430, Validation Loss: 0.0409\n",
      "Epoch [10/10], Training Loss: 0.0426, Validation Loss: 0.0460\n"
     ]
    }
   ],
   "source": [
    "# Train the model\n",
    "\n",
    "# Save losses for further analysis\n",
    "train_losses = []\n",
    "val_losses = []\n",
    "\n",
    "for epoch in range(num_epochs):\n",
    "    model.train()\n",
    "    running_train_loss = 0.0\n",
    "    for inputs, targets in train_loader:\n",
    "        optimizer.zero_grad()\n",
    "        outputs = model(inputs)\n",
    "        loss = criterion(outputs, targets)\n",
    "        loss.backward()\n",
    "        optimizer.step()\n",
    "        running_train_loss += loss.item() * inputs.size(0)\n",
    "    train_loss = running_train_loss / len(train_loader.dataset)\n",
    "    train_losses.append(train_loss)\n",
    "\n",
    "    model.eval()\n",
    "    running_val_loss = 0.0\n",
    "    with torch.no_grad():\n",
    "        for inputs, targets in val_loader:\n",
    "            outputs = model(inputs)\n",
    "            loss = criterion(outputs, targets)\n",
    "            running_val_loss += loss.item() * inputs.size(0)\n",
    "    val_loss = running_val_loss / len(val_loader.dataset)\n",
    "    val_losses.append(val_loss)\n",
    "\n",
    "    print(f'Epoch [{epoch+1}/{num_epochs}], Training Loss: {train_loss:.4f}, Validation Loss: {val_loss:.4f}')"
   ]
  },
  {
   "cell_type": "code",
   "execution_count": 23,
   "metadata": {},
   "outputs": [
    {
     "data": {
      "image/png": "[encoded data removed]",
      "text/plain": [
       "<Figure size 640x480 with 1 Axes>"
      ]
     },
     "metadata": {},
     "output_type": "display_data"
    }
   ],
   "source": [
    "# Plotting the loss curves\n",
    "plt.plot(range(1, num_epochs + 1), train_losses, label='Training Loss')\n",
    "plt.plot(range(1, num_epochs + 1), val_losses, label='Validation Loss')\n",
    "plt.title('Training and Validation Loss Curves')\n",
    "plt.xlabel('Epoch')\n",
    "plt.ylabel('Loss')\n",
    "plt.legend()\n",
    "plt.show()\n",
    "\n",
    "# # Plot Training and Validation Accuracy Curves\n",
    "# plt.plot(range(1, num_epochs + 1), train_accuracies, label='Training Accuracy')\n",
    "# plt.plot(range(1, num_epochs + 1), val_accuracies, label='Validation Accuracy')\n",
    "# plt.title('Training and Validation Accuracy Curves')\n",
    "# plt.xlabel('Epoch')\n",
    "# plt.ylabel('Accuracy')\n",
    "# plt.legend()\n",
    "# plt.show()"
   ]
  },
  {
   "cell_type": "code",
   "execution_count": 24,
   "metadata": {},
   "outputs": [
    {
     "name": "stdout",
     "output_type": "stream",
     "text": [
      "Mean Absolute Error (MAE): 0.1314\n",
      "Mean Squared Error (MSE): 0.0390\n"
     ]
    }
   ],
   "source": [
    "# Calculate Mean Absolute Error (MAE)\n",
    "with torch.no_grad():\n",
    "    total_mae = 0.0\n",
    "    for inputs, targets in test_loader:\n",
    "        outputs = model(inputs)\n",
    "        total_mae += torch.mean(torch.abs(outputs - targets)).item()\n",
    "    mae = total_mae / len(test_loader)\n",
    "\n",
    "print(f'Mean Absolute Error (MAE): {mae:.4f}')\n",
    "\n",
    "# Calculate Mean Squared Error (MSE)\n",
    "with torch.no_grad():\n",
    "    total_mse = 0.0\n",
    "    for inputs, targets in test_loader:\n",
    "        outputs = model(inputs)\n",
    "        total_mse += torch.mean((outputs - targets) ** 2).item()\n",
    "    mse = total_mse / len(test_loader)\n",
    "\n",
    "print(f'Mean Squared Error (MSE): {mse:.4f}')\n"
   ]
  },
  {
   "cell_type": "code",
   "execution_count": 18,
   "metadata": {},
   "outputs": [],
   "source": [
    "# # Set option to display all columns\n",
    "# pd.set_option('display.max_columns', None)\n",
    "\n",
    "# # Set option to display all rows\n",
    "# pd.set_option('display.max_rows', None)"
   ]
  }
 ],
 "metadata": {
  "kernelspec": {
   "display_name": "Python 3",
   "language": "python",
   "name": "python3"
  },
  "language_info": {
   "codemirror_mode": {
    "name": "ipython",
    "version": 3
   },
   "file_extension": ".py",
   "mimetype": "text/x-python",
   "name": "python",
   "nbconvert_exporter": "python",
   "pygments_lexer": "ipython3",
   "version": "3.10.9"
  }
 },
 "nbformat": 4,
 "nbformat_minor": 2
}
