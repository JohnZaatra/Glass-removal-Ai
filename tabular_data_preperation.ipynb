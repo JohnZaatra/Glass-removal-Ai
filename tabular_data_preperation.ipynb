{
 "cells": [
  {
   "cell_type": "code",
   "execution_count": 1,
   "metadata": {},
   "outputs": [],
   "source": [
    "# import pandas as pd\n",
    "\n",
    "# # Load the dataset\n",
    "# data = pd.read_csv(\"/Users/john-zaatri/Desktop/semester 7/פרויקט מסכם/tabular data/DATA for AI.csv\", low_memory=False)\n",
    "\n",
    "# # Define the list of columns to keep\n",
    "# columns_to_keep = ['Ocular Treatment ID', 'File', 'Age', 'Gender', 'Eye', 'Dominant Eye',\n",
    "#                    'Pachymetry', 'PRE-OP Average K', 'PRE-OP K Axis max',\n",
    "#                    'Pre-op K  Axis min', 'Contact Lens', 'Free of CL', 'Free of CL Unit',\n",
    "#                    'UCVA', 'Subjective SEQ', 'Subjective Sph', 'Subjective Cyl', 'Subjective Cyl Axis', \n",
    "#                    'Subjective BCVA', 'Cycloplegia Sph', 'Cycloplegia Cyl', 'Cycloplegia Axis',\n",
    "#                    'Cycloplegia CVA', 'Surgery Date', 'Treatment SEQ', 'Treatment Param Axis', \n",
    "#                    'Opt Zo', 'Max Abl Depth', 'Treatment Type', 'Humidity', 'Temp', 'Op.Time', \n",
    "#                    'Micro', 'Ring', 'Stop', 'Head', 'Alchohol', 'PTK mmm', 'MZ sec', \n",
    "#                    'Therapeutic Cont L', 'Rotation Angle', 'Rotation Angle Degrees', \n",
    "#                    'Last_Target Sph', 'Last_UCVA', \n",
    "                   \n",
    "#                    'Last_Pachymetry', 'Last_Average K', 'Last_Steep Axis min', 'LASTSubjective SEQ', 'Last_Subjective Axis', 'Last_Subjective BCVA']\n",
    "\n",
    "# # Filter the DataFrame to keep only the specified columns\n",
    "# filtered_data = data.loc[:, columns_to_keep]\n",
    "\n",
    "# # Define the file path for the new CSV file\n",
    "# output_file_path = \"/Users/john-zaatri/Desktop/semester 7/פרויקט מסכם/tabular data/Cleared-Data-Modified.csv\"\n",
    "\n",
    "# # Save the filtered data to a new CSV file\n",
    "# filtered_data.to_csv(output_file_path, index=False)\n"
   ]
  },
  {
   "cell_type": "code",
   "execution_count": 2,
   "metadata": {},
   "outputs": [],
   "source": [
    "import pandas as pd\n",
    "from sklearn.model_selection import train_test_split\n",
    "from sklearn.impute import SimpleImputer\n",
    "from sklearn.preprocessing import OneHotEncoder, StandardScaler\n",
    "from sklearn.compose import ColumnTransformer\n",
    "from sklearn.pipeline import Pipeline"
   ]
  },
  {
   "cell_type": "code",
   "execution_count": 3,
   "metadata": {},
   "outputs": [],
   "source": [
    "# Load the dataset\n",
    "data = pd.read_csv(\"/Users/john-zaatri/Desktop/semester 7/פרויקט מסכם/tabular data/Cleared-Data-Modified.csv\", low_memory=False)"
   ]
  },
  {
   "cell_type": "code",
   "execution_count": 4,
   "metadata": {},
   "outputs": [
    {
     "name": "stdout",
     "output_type": "stream",
     "text": [
      "Index(['Ocular Treatment ID', 'File', 'Age', 'Gender', 'Eye', 'Dominant Eye',\n",
      "       'Pachymetry', 'PRE-OP Average K', 'PRE-OP K Axis max',\n",
      "       'Pre-op K  Axis min', 'Contact Lens', 'Free of CL', 'Free of CL Unit',\n",
      "       'UCVA', 'Subjective SEQ', 'Subjective Sph', 'Subjective Cyl',\n",
      "       'Subjective Cyl Axis', 'Subjective BCVA', 'Cycloplegia Sph',\n",
      "       'Cycloplegia Cyl', 'Cycloplegia Axis', 'Cycloplegia CVA',\n",
      "       'Surgery Date', 'Treatment SEQ', 'Treatment Param Axis', 'Opt Zo',\n",
      "       'Max Abl Depth', 'Treatment Type', 'Humidity', 'Temp', 'Op.Time',\n",
      "       'Micro', 'Ring', 'Stop', 'Head', 'Alchohol', 'PTK mmm', 'MZ sec',\n",
      "       'Therapeutic Cont L', 'Rotation Angle', 'Rotation Angle Degrees',\n",
      "       'Last_Target Sph', 'Last_UCVA', 'Last_Pachymetry', 'Last_Average K',\n",
      "       'Last_Steep Axis min', 'LASTSubjective SEQ', 'Last_Subjective Axis',\n",
      "       'Last_Subjective BCVA'],\n",
      "      dtype='object')\n"
     ]
    }
   ],
   "source": [
    "print(data.columns)"
   ]
  },
  {
   "cell_type": "code",
   "execution_count": 9,
   "metadata": {},
   "outputs": [
    {
     "name": "stdout",
     "output_type": "stream",
     "text": [
      "Null value counts for each specified column:\n",
      "Ocular Treatment ID          0\n",
      "File                         0\n",
      "Age                        411\n",
      "Gender                    1978\n",
      "Eye                          0\n",
      "Dominant Eye             33183\n",
      "Pachymetry                3809\n",
      "PRE-OP Average K          9130\n",
      "PRE-OP K Axis max        17611\n",
      "Pre-op K  Axis min       17368\n",
      "Contact Lens             73367\n",
      "Free of CL               64410\n",
      "Free of CL Unit          64888\n",
      "UCVA                      7876\n",
      "Subjective SEQ             697\n",
      "Subjective Sph             737\n",
      "Subjective Cyl            4375\n",
      "Subjective Cyl Axis       3679\n",
      "Subjective BCVA            876\n",
      "Cycloplegia Sph         112880\n",
      "Cycloplegia Cyl         114616\n",
      "Cycloplegia Axis        112873\n",
      "Cycloplegia CVA         121006\n",
      "Surgery Date                 0\n",
      "Treatment SEQ              197\n",
      "Treatment Param Axis     15024\n",
      "Opt Zo                    1838\n",
      "Max Abl Depth             1930\n",
      "Treatment Type               0\n",
      "Humidity                  4777\n",
      "Temp                      4792\n",
      "Op.Time                      0\n",
      "dtype: int64\n"
     ]
    }
   ],
   "source": [
    "# Checking count of null values \n",
    "columns_to_check = ['Ocular Treatment ID', 'File', 'Age', 'Gender', 'Eye', 'Dominant Eye',\n",
    "                    'Pachymetry', 'PRE-OP Average K', 'PRE-OP K Axis max',\n",
    "                    'Pre-op K  Axis min', 'Contact Lens', 'Free of CL', 'Free of CL Unit',\n",
    "                    'UCVA', 'Subjective SEQ', 'Subjective Sph', 'Subjective Cyl', 'Subjective Cyl Axis', 'Subjective BCVA',\n",
    "                    'Cycloplegia Sph', 'Cycloplegia Cyl', 'Cycloplegia Axis',\n",
    "                    'Cycloplegia CVA', 'Surgery Date', 'Treatment SEQ',\n",
    "                    'Treatment Param Axis', 'Opt Zo', 'Max Abl Depth', 'Treatment Type',\n",
    "                    'Humidity', 'Temp', 'Op.Time']\n",
    "\n",
    "# Count null values for each column\n",
    "null_counts = data[columns_to_check].isnull().sum()\n",
    "\n",
    "print(\"Null value counts for each specified column:\")\n",
    "print(null_counts)"
   ]
  },
  {
   "cell_type": "code",
   "execution_count": 8,
   "metadata": {},
   "outputs": [
    {
     "name": "stdout",
     "output_type": "stream",
     "text": [
      "Number of values with a space in the 'Dominant Eye' column: 0\n"
     ]
    }
   ],
   "source": [
    "# Convert \" \" to None in the \"Dominant Eye\" column\n",
    "data[\"Dominant Eye\"] = data[\"Dominant Eye\"].replace(\" \", None)"
   ]
  },
  {
   "cell_type": "code",
   "execution_count": 10,
   "metadata": {},
   "outputs": [],
   "source": [
    "# Handle data where 'Pre-op K Axis min' is NaN and 'PRE-OP K Axis max' is not NaN\n",
    "def fill_pre_op_k_axis_max(df):\n",
    "    # Identify the condition where 'Pre-op K Axis min' is NaN and 'PRE-OP K Axis max' is not NaN\n",
    "    condition = df['Pre-op K  Axis min'].isnull() & df['PRE-OP K Axis max'].notnull()\n",
    "\n",
    "    # Apply vectorized operations to adjust 'Pre-op K Axis min' based on 'PRE-OP K Axis max'\n",
    "    df.loc[condition & (df['PRE-OP K Axis max'] > 90), 'Pre-op K  Axis min'] = df['PRE-OP K Axis max'] - 90\n",
    "    df.loc[condition & (df['PRE-OP K Axis max'] <= 90), 'Pre-op K  Axis min'] = df['PRE-OP K Axis max'] + 90\n",
    "\n",
    "    return df\n",
    "\n",
    "df = fill_pre_op_k_axis_max(data)\n",
    "df = df.drop('PRE-OP K Axis max',axis=1)"
   ]
  },
  {
   "cell_type": "code",
   "execution_count": 11,
   "metadata": {},
   "outputs": [],
   "source": [
    "# This cell will handle the 3 columns of 'Contact Lens', 'Free of CL', 'Free of CL Unit' and merge them into one column while handling null values\n",
    "def HoursToDays(df):\n",
    "    # Vectorized operation to convert hours to days\n",
    "    condition = (df['Free of CL Unit'] == \"Hours\") # | (df['Free of CL Unit'].notnull()) \n",
    "    df.loc[condition, 'Free of CL'] /= 24\n",
    "    return df\n",
    "\n",
    "def normalize_value(row, min_val, max_val):\n",
    "    # Normalize 'Free of CL' value based on lens type\n",
    "    val = row['Free of CL']\n",
    "    if pd.isnull(val): #################################\n",
    "        return 1 \n",
    "    normalized = (val - min_val) / (max_val - min_val)\n",
    "    return min(max(normalized, 0), 1)  # Ensure the normalized value is between 0 and 1\n",
    "\n",
    "def mergeCL(df):\n",
    "    df = HoursToDays(df)  # Convert hours to days first\n",
    "\n",
    "    # Use 'apply' with a custom function for complex logic\n",
    "    def apply_normalization(row):\n",
    "        if row['Contact Lens'] == \"Hard\":\n",
    "            return normalize_value(row, 7, 28)\n",
    "        elif row['Contact Lens'] == \"Soft\":\n",
    "            return normalize_value(row, 3, 7)\n",
    "        else:\n",
    "            return 1  # Default value for other types\n",
    "\n",
    "    df['Merge_Contact Lens'] = df.apply(apply_normalization, axis=1)\n",
    "\n",
    "    # Drop unnecessary columns\n",
    "    df.drop(columns=['Contact Lens', 'Free of CL', 'Free of CL Unit'], inplace=True)\n",
    "\n",
    "    return df\n",
    "\n",
    "df = mergeCL(df)"
   ]
  },
  {
   "cell_type": "code",
   "execution_count": 12,
   "metadata": {},
   "outputs": [],
   "source": [
    "# Update subjective SEQ values based on the columns Cycloplegia Sph and Cycloplegia Cyl\n",
    "def update_subjective_seq(row):\n",
    "    # Check if at least one value is not null between 'Cycloplegia Sph' and 'Cycloplegia Cyl'\n",
    "    if pd.notnull(row['Cycloplegia Sph']) or pd.notnull(row['Cycloplegia Cyl']):\n",
    "        # Check if 'Cycloplegia Sph' is not null and 'Cycloplegia Cyl' is not null\n",
    "        if pd.notnull(row['Cycloplegia Sph']) and pd.notnull(row['Cycloplegia Cyl']):\n",
    "            # Update 'Subjective SEQ' based on 'Cycloplegia Sph' and 'Cycloplegia Cyl'\n",
    "            return row['Cycloplegia Sph'] + 0.5 * row['Cycloplegia Cyl']\n",
    "        # Check if 'Cycloplegia Sph' is null and 'Cycloplegia Cyl' is not null\n",
    "        elif pd.isnull(row['Cycloplegia Sph']) and pd.notnull(row['Cycloplegia Cyl']):\n",
    "            # Update 'Subjective SEQ' based on 'Subjective Sph' and 'Cycloplegia Cyl'\n",
    "            return row['Subjective Sph'] + 0.5 * row['Cycloplegia Cyl']\n",
    "        # Check if 'Cycloplegia Cyl' is null and 'Cycloplegia Sph' is not null\n",
    "        elif pd.isnull(row['Cycloplegia Cyl']) and pd.notnull(row['Cycloplegia Sph']):\n",
    "            # Update 'Subjective SEQ' based on 'Cycloplegia Sph' and 'Subjective Cyl'\n",
    "            return row['Cycloplegia Sph'] + 0.5 * row['Subjective Cyl']\n",
    "    else:\n",
    "        # If neither 'Cycloplegia Sph' nor 'Cycloplegia Cyl' is present, return the existing 'Subjective SEQ' value\n",
    "        return row['Subjective SEQ']\n",
    "\n",
    "# Assuming 'df' is your DataFrame containing the relevant columns\n",
    "df['Subjective SEQ'] = df.apply(update_subjective_seq, axis=1)\n",
    "\n",
    "# Drop the specified columns\n",
    "df.drop(columns=['Cycloplegia Sph', 'Cycloplegia Cyl', 'Subjective Sph', 'Subjective Cyl'], inplace=True)"
   ]
  },
  {
   "cell_type": "code",
   "execution_count": 13,
   "metadata": {},
   "outputs": [],
   "source": [
    " # Update Subjective axis and CVA columns with Cycloplegia axis and cva values where they are not null\n",
    "def MergeSubCycloplegia(df):\n",
    "    cyclo_columns = ['Cycloplegia Axis', 'Cycloplegia CVA'] #################################\n",
    "    subj_columns = ['Subjective Cyl Axis', 'Subjective BCVA'] #################################\n",
    "\n",
    "    for cyclo, subj in zip(cyclo_columns, subj_columns):\n",
    "        condition = df[cyclo].notnull()\n",
    "        df.loc[condition, subj] = df.loc[condition, cyclo]\n",
    "\n",
    "    # Drop the original 'Cycloplegia' columns\n",
    "    df.drop(columns=cyclo_columns, inplace=True)\n",
    "\n",
    "    return df\n",
    "\n",
    "df = MergeSubCycloplegia(df)"
   ]
  },
  {
   "cell_type": "code",
   "execution_count": 14,
   "metadata": {},
   "outputs": [
    {
     "name": "stdout",
     "output_type": "stream",
     "text": [
      "Number of rows with null values in Rotation Angle after nulling values: 60\n",
      "Number of rows with 'CW' in Rotation Angle after filling values: 6\n"
     ]
    }
   ],
   "source": [
    "# Print the counts for both conditions\n",
    "print(\"Number of rows with null values in Rotation Angle after nulling values:\", \n",
    "      ((df['Rotation Angle Degrees'].isnull()) & (df['Rotation Angle'].notnull())).sum())\n",
    "\n",
    "print(\"Number of rows with 'CW' in Rotation Angle after filling values:\", \n",
    "      ((df['Rotation Angle'].isnull()) & (df['Rotation Angle Degrees'].notnull())).sum())\n",
    "\n",
    "# Null the values of Rotation Angle where Rotation Angle Degrees is null and Rotation Angle is not null\n",
    "df.loc[df['Rotation Angle Degrees'].isnull() & df['Rotation Angle'].notnull(), 'Rotation Angle'] = pd.NA\n",
    "\n",
    "# Fill Rotation Angle with \"CW\" where Rotation Angle is null and Rotation Angle Degrees is not null\n",
    "df.loc[df['Rotation Angle'].isnull() & df['Rotation Angle Degrees'].notnull(), 'Rotation Angle'] = \"CW\""
   ]
  },
  {
   "cell_type": "code",
   "execution_count": 15,
   "metadata": {},
   "outputs": [],
   "source": [
    "# This cell merge the columns Rotation Angle and Rotation Angle Degrees (CW and CCW)\n",
    "def LaserRotationMerge(df):\n",
    "    # Identify rows where 'Rotation Angle' is 'CCW' and 'Rotation Angle Degrees' is not null\n",
    "    condition = (df['Rotation Angle'] == 'CCW') & df['Rotation Angle Degrees'].notnull()\n",
    "\n",
    "    # Multiply 'Rotation Angle Degrees' by -1 for rows that meet the condition\n",
    "    df.loc[condition, 'Rotation Angle Degrees'] *= -1\n",
    "\n",
    "    # Drop the 'Rotation Angle' column\n",
    "    df.drop('Rotation Angle', axis=1, inplace=True)\n",
    "\n",
    "    return df\n",
    "\n",
    "df = LaserRotationMerge(df)"
   ]
  },
  {
   "cell_type": "code",
   "execution_count": 16,
   "metadata": {},
   "outputs": [],
   "source": [
    "# Remove rows where last ucva (target label) is null and tratement type equal to zeiss premium\n",
    "df = df[df['Last_UCVA'].notnull()]\n",
    "df = df[df['Treatment Type'] != \"Zeiss Premium\"]"
   ]
  },
  {
   "cell_type": "code",
   "execution_count": 17,
   "metadata": {},
   "outputs": [
    {
     "name": "stderr",
     "output_type": "stream",
     "text": [
      "/var/folders/1t/bbl6pwb16n501zzycpfhlml00000gn/T/ipykernel_5665/304131575.py:29: UserWarning: Parsing dates in %d/%m/%Y format when dayfirst=False (the default) was specified. Pass `dayfirst=True` or specify a format to silence this warning.\n",
      "  df['Surgery Month'] = pd.to_datetime(df['Surgery Date']).dt.month\n",
      "/var/folders/1t/bbl6pwb16n501zzycpfhlml00000gn/T/ipykernel_5665/304131575.py:30: UserWarning: Parsing dates in %d/%m/%Y format when dayfirst=False (the default) was specified. Pass `dayfirst=True` or specify a format to silence this warning.\n",
      "  df['Surgery Year'] = pd.to_datetime(df['Surgery Date']).dt.year\n"
     ]
    }
   ],
   "source": [
    "# Handling the surgery date column\n",
    "# Define a function to map the season based on the month\n",
    "def map_season(month):\n",
    "    if month in [3, 4, 5]:  # Spring: March (3) to May (5)\n",
    "        return 1\n",
    "    elif month in [6, 7, 8]:  # Summer: June (6) to August (8)\n",
    "        return 2\n",
    "    elif month in [9, 10, 11]:  # Fall: September (9) to November (11)\n",
    "        return 3\n",
    "    else:  # Winter: December (12) to February (2)\n",
    "        return 4\n",
    "    \n",
    "# Define a function to map the year range based on the era\n",
    "def map_era(year):\n",
    "    if year >= 2000 and year <= 2005:\n",
    "        return 1\n",
    "    elif year >= 2006 and year <= 2010:\n",
    "        return 2\n",
    "    elif year >= 2011 and year <= 2015:\n",
    "        return 3\n",
    "    elif year >= 2016 and year <= 2020:\n",
    "        return 4\n",
    "    elif year >= 2021 and year <= 2022:\n",
    "        return 5\n",
    "    else:\n",
    "        return 0  # Default value if the year doesn't fall into any era\n",
    "    \n",
    "# Extract month and year from 'Surgery Date'\n",
    "df['Surgery Month'] = pd.to_datetime(df['Surgery Date']).dt.month\n",
    "df['Surgery Year'] = pd.to_datetime(df['Surgery Date']).dt.year\n",
    "\n",
    "# Map season and year range\n",
    "df['Season'] = df['Surgery Month'].apply(map_season)\n",
    "df['Era'] = df['Surgery Year'].apply(map_era)\n",
    "\n",
    "# Drop the 'Surgery Date', 'Surgery Month', and 'Surgery Year' columns\n",
    "df.drop(columns=['Surgery Date', 'Surgery Month', 'Surgery Year'], inplace=True)"
   ]
  },
  {
   "cell_type": "code",
   "execution_count": 18,
   "metadata": {},
   "outputs": [],
   "source": [
    "# columns = ['Micro', 'Ring', 'Stop', 'Head', 'Alchohol', 'PTK mmm', 'MZ sec', 'Therapeutic Cont L', 'Rotation Angle Degrees']\n",
    "\n",
    "\n",
    "# for col in columns:\n",
    "#     # Filter the DataFrame for non-null values in the current column\n",
    "#     filtered_df = df[df[col].notnull()]\n",
    "    \n",
    "#     # Group the filtered DataFrame by 'Treatment Type' and count the rows for each group\n",
    "#     grouped_counts = filtered_df.groupby('Treatment Type').size()\n",
    "    \n",
    "#     # Print the unique Treatment Types and their corresponding row counts\n",
    "#     print(f\"Unique Treatment Types and row counts for non-null values in '{col}':\")\n",
    "#     for treatment_type, count in grouped_counts.items():\n",
    "#         print(f\"- {treatment_type}: {count} rows\")\n",
    "#     print()  # Add a new line for readability"
   ]
  },
  {
   "cell_type": "code",
   "execution_count": 19,
   "metadata": {},
   "outputs": [],
   "source": [
    "# # Count null values in each column that needs to be filled\n",
    "# null_counts = df[['Pachymetry', 'PRE-OP Average K', 'Pre-op K  Axis min', \n",
    "#                   'Subjective SEQ', 'Subjective Cyl Axis', 'Subjective BCVA', 'UCVA']].isnull().sum()\n",
    "# print(null_counts)\n",
    "# # List of columns to fill null values\n",
    "# columns_to_fill = ['Pachymetry', 'PRE-OP Average K', 'Pre-op K  Axis min', \n",
    "#                    'Subjective SEQ', 'Subjective Cyl Axis', 'Subjective BCVA', 'UCVA']\n",
    "\n",
    "# # List of corresponding help columns\n",
    "# help_columns = ['Last_Pachymetry', 'Last_Average K', 'Last_Steep Axis min', \n",
    "#                 'LASTSubjective SEQ', 'Last_Subjective Axis', 'Last_Subjective BCVA', 'Last_UCVA']\n",
    "\n",
    "# # Iterate over each column to be filled and its corresponding help column\n",
    "# for col_fill, col_help in zip(columns_to_fill, help_columns):\n",
    "#     # Count rows where the column to fill has null values and the help column has non-null values\n",
    "#     count = df[df[col_fill].isnull() & df[col_help].notnull()].shape[0]\n",
    "#     print(f\"Number of rows where {col_fill} is null and {col_help} is not null:\", count)\n",
    "\n"
   ]
  },
  {
   "cell_type": "code",
   "execution_count": 20,
   "metadata": {},
   "outputs": [
    {
     "name": "stdout",
     "output_type": "stream",
     "text": [
      "Average Differences:\n",
      "Last_Pachymetry        -73.377499\n",
      "Last_Average K          -3.396130\n",
      "Last_Steep Axis min     -2.121525\n",
      "LASTSubjective SEQ       3.480470\n",
      "Last_Subjective Axis   -24.362817\n",
      "Last_Subjective BCVA    -0.003787\n",
      "Last_UCVA                0.781154\n",
      "dtype: float64\n"
     ]
    }
   ],
   "source": [
    "differences_df = pd.DataFrame()\n",
    "\n",
    "# List of before-surgery columns\n",
    "before_surgery_columns = ['Pachymetry', 'PRE-OP Average K', 'Pre-op K  Axis min', \n",
    "                          'Subjective SEQ', 'Subjective Cyl Axis', 'Subjective BCVA', 'UCVA']\n",
    "\n",
    "# List of after-surgery columns\n",
    "after_surgery_columns = ['Last_Pachymetry', 'Last_Average K', 'Last_Steep Axis min', \n",
    "                         'LASTSubjective SEQ', 'Last_Subjective Axis', 'Last_Subjective BCVA', 'Last_UCVA']\n",
    "\n",
    "# Iterate over pairs of before-surgery and after-surgery columns\n",
    "for before_col, after_col in zip(before_surgery_columns, after_surgery_columns):\n",
    "    # Calculate the difference between after-surgery and before-surgery values\n",
    "    differences_df[after_col] = df[after_col] - df[before_col]\n",
    "\n",
    "# Calculate the average difference for each after-surgery column\n",
    "average_differences = differences_df.mean()\n",
    "\n",
    "# Print the average differences and overall change\n",
    "print(\"Average Differences:\")\n",
    "print(average_differences)\n",
    "\n",
    "# Fill null values in before-surgery columns using calculated differences\n",
    "for before_col, after_col in zip(before_surgery_columns, after_surgery_columns):\n",
    "    # Identify rows where the after-surgery column is not null\n",
    "    not_null_mask = df[after_col].notnull()\n",
    "\n",
    "    # Calculate the imputed values using the average difference\n",
    "    imputed_values = df[after_col][not_null_mask] - average_differences[after_col]\n",
    "\n",
    "    # Update null values in the before-surgery column with imputed values\n",
    "    df.loc[df[before_col].isnull() & not_null_mask, before_col] = imputed_values\n",
    "    \n",
    "# List of after-surgery columns to drop\n",
    "after_surgery_columns_to_drop = [col for col in after_surgery_columns if col != 'Last_UCVA']\n",
    "\n",
    "# Drop the after-surgery columns except 'Last_UCVA' from the DataFrame\n",
    "df.drop(after_surgery_columns_to_drop, axis=1, inplace=True)"
   ]
  },
  {
   "cell_type": "code",
   "execution_count": 21,
   "metadata": {},
   "outputs": [],
   "source": [
    "# List of columns to fill with mean value\n",
    "columns_to_fill_mean = ['Age', 'Pachymetry', 'PRE-OP Average K', 'Pre-op K  Axis min', 'Subjective SEQ',\n",
    "                        'Subjective Cyl Axis', 'Subjective BCVA', 'Treatment SEQ', 'Treatment Param Axis',\n",
    "                        'Opt Zo', 'Max Abl Depth', 'Humidity', 'Temp']\n",
    "\n",
    "# List of columns to fill with mode value\n",
    "columns_to_fill_mode = ['Gender', 'Dominant Eye']\n",
    "\n",
    "# Fill numerical columns with mean value\n",
    "df[columns_to_fill_mean] = df[columns_to_fill_mean].fillna(df[columns_to_fill_mean].mean())\n",
    "\n",
    "# Fill categorical columns with mode value\n",
    "df[columns_to_fill_mode] = df[columns_to_fill_mode].fillna(df[columns_to_fill_mode].mode().iloc[0])"
   ]
  },
  {
   "cell_type": "code",
   "execution_count": 22,
   "metadata": {},
   "outputs": [],
   "source": [
    "# Define the neutral value for numerical columns\n",
    "neutral_value_numeric = -2  # A numerical value that is outside the range of your actual data\n",
    "\n",
    "# Fill the numerical columns with the neutral value\n",
    "df['Ring'] = df['Ring'].fillna(neutral_value_numeric)\n",
    "df['Stop'] = df['Stop'].fillna(neutral_value_numeric)\n",
    "\n",
    "# For the textual columns, use the previous approach\n",
    "neutral_value_textual = \"Unknown\"\n",
    "textual_columns_to_fill_neutral = ['Micro', 'Head']\n",
    "\n",
    "# Fill the specified textual columns with the neutral value\n",
    "df[textual_columns_to_fill_neutral] = df[textual_columns_to_fill_neutral].fillna(neutral_value_textual)"
   ]
  },
  {
   "cell_type": "code",
   "execution_count": 23,
   "metadata": {},
   "outputs": [],
   "source": [
    "neutral_value_numeric = -2  # Choose a numerical value that is outside the range of your actual data\n",
    "\n",
    "# Fill the numerical columns with the neutral value\n",
    "df['Alchohol'] = df['Alchohol'].fillna(neutral_value_numeric)\n",
    "df['PTK mmm'] = df['PTK mmm'].fillna(neutral_value_numeric)\n",
    "df['MZ sec'] = df['MZ sec'].fillna(neutral_value_numeric)"
   ]
  },
  {
   "cell_type": "code",
   "execution_count": 24,
   "metadata": {},
   "outputs": [],
   "source": [
    "df['Therapeutic Cont L'] = df['Therapeutic Cont L'].fillna(\"No\")\n",
    "\n",
    "df['Rotation Angle Degrees'] = df['Rotation Angle Degrees'].fillna(0)"
   ]
  },
  {
   "cell_type": "code",
   "execution_count": 25,
   "metadata": {},
   "outputs": [
    {
     "name": "stdout",
     "output_type": "stream",
     "text": [
      "Null value counts for each specified column:\n",
      "Ocular Treatment ID       0\n",
      "File                      0\n",
      "Age                       0\n",
      "Gender                    0\n",
      "Eye                       0\n",
      "Dominant Eye              0\n",
      "Pachymetry                0\n",
      "PRE-OP Average K          0\n",
      "Pre-op K  Axis min        0\n",
      "Merge_Contact Lens        0\n",
      "UCVA                      0\n",
      "Subjective SEQ            0\n",
      "Subjective Cyl Axis       0\n",
      "Subjective BCVA           0\n",
      "Era                       0\n",
      "Season                    0\n",
      "Treatment SEQ             0\n",
      "Treatment Param Axis      0\n",
      "Opt Zo                    0\n",
      "Max Abl Depth             0\n",
      "Treatment Type            0\n",
      "Humidity                  0\n",
      "Temp                      0\n",
      "Op.Time                   0\n",
      "Micro                     0\n",
      "Ring                      0\n",
      "Stop                      0\n",
      "Head                      0\n",
      "Alchohol                  0\n",
      "PTK mmm                   0\n",
      "MZ sec                    0\n",
      "Therapeutic Cont L        0\n",
      "Rotation Angle Degrees    0\n",
      "Last_Target Sph           0\n",
      "Last_UCVA                 0\n",
      "dtype: int64\n"
     ]
    }
   ],
   "source": [
    "# Checking count of null values \n",
    "columns_to_check = ['Ocular Treatment ID', 'File', 'Age', 'Gender', 'Eye', 'Dominant Eye',\n",
    "                    'Pachymetry', 'PRE-OP Average K',\n",
    "                    'Pre-op K  Axis min', 'Merge_Contact Lens',\n",
    "                    'UCVA', 'Subjective SEQ', 'Subjective Cyl Axis', 'Subjective BCVA', 'Era', 'Season', 'Treatment SEQ',\n",
    "                    'Treatment Param Axis', 'Opt Zo', 'Max Abl Depth', 'Treatment Type',\n",
    "                    'Humidity', 'Temp', 'Op.Time',\n",
    "                    \n",
    "                    'Micro', 'Ring', 'Stop', 'Head', 'Alchohol', 'PTK mmm', 'MZ sec', \n",
    "                    'Therapeutic Cont L', 'Rotation Angle Degrees', \n",
    "                    'Last_Target Sph', 'Last_UCVA']\n",
    "\n",
    "# Count null values for each column\n",
    "null_counts = df[columns_to_check].isnull().sum()\n",
    "\n",
    "print(\"Null value counts for each specified column:\")\n",
    "print(null_counts)"
   ]
  },
  {
   "cell_type": "code",
   "execution_count": 26,
   "metadata": {},
   "outputs": [],
   "source": [
    "# Assuming your DataFrame is named df\n",
    "# df.to_csv('/Users/john-zaatri/Desktop/semester 7/פרויקט מסכם/tabular data/processed_data.csv', index=False)"
   ]
  }
 ],
 "metadata": {
  "kernelspec": {
   "display_name": "Python 3",
   "language": "python",
   "name": "python3"
  },
  "language_info": {
   "codemirror_mode": {
    "name": "ipython",
    "version": 3
   },
   "file_extension": ".py",
   "mimetype": "text/x-python",
   "name": "python",
   "nbconvert_exporter": "python",
   "pygments_lexer": "ipython3",
   "version": "3.10.9"
  }
 },
 "nbformat": 4,
 "nbformat_minor": 2
}
