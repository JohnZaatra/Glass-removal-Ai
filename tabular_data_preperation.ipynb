{
 "cells": [
  {
   "cell_type": "code",
   "execution_count": 1,
   "metadata": {},
   "outputs": [],
   "source": [
    "# import pandas as pd\n",
    "\n",
    "# # Load the dataset\n",
    "# data = pd.read_csv(\"/Users/john-zaatri/Desktop/semester 7/פרויקט מסכם/tabular data/DATA for AI.csv\", low_memory=False)\n",
    "\n",
    "# # Define the list of columns to keep\n",
    "# columns_to_keep = ['Ocular Treatment ID', 'File', 'Age', 'Gender', 'Eye', 'Dominant Eye',\n",
    "#                    'Pachymetry', 'PRE-OP Average K', 'PRE-OP K Axis max',\n",
    "#                    'Pre-op K  Axis min', 'Contact Lens', 'Free of CL', 'Free of CL Unit',\n",
    "#                    'UCVA', 'Subjective SEQ', 'Subjective Sph', 'Subjective Cyl', 'Subjective Cyl Axis', \n",
    "#                    'Subjective BCVA', 'Cycloplegia Sph', 'Cycloplegia Cyl', 'Cycloplegia Axis',\n",
    "#                    'Cycloplegia CVA', 'Surgery Date', 'Treatment SEQ', 'Treatment Param Axis', \n",
    "#                    'Opt Zo', 'Max Abl Depth', 'Treatment Type', 'Humidity', 'Temp', 'Op.Time', \n",
    "#                    'Micro', 'Ring', 'Stop', 'Head', 'Alchohol', 'PTK mmm', 'MZ sec', \n",
    "#                    'Therapeutic Cont L', 'Rotation Angle', 'Rotation Angle Degrees', \n",
    "#                    'Last_Target Sph', 'Last_UCVA', \n",
    "                   \n",
    "#                    'Last_Pachymetry', 'Last_Average K', 'Last_Steep Axis min', 'LASTSubjective SEQ', 'Last_Subjective Axis', 'Last_Subjective BCVA']\n",
    "\n",
    "# # Filter the DataFrame to keep only the specified columns\n",
    "# filtered_data = data.loc[:, columns_to_keep]\n",
    "\n",
    "# # Define the file path for the new CSV file\n",
    "# output_file_path = \"/Users/john-zaatri/Desktop/semester 7/פרויקט מסכם/tabular data/Cleared-Data-Modified.csv\"\n",
    "\n",
    "# # Save the filtered data to a new CSV file\n",
    "# filtered_data.to_csv(output_file_path, index=False)\n"
   ]
  },
  {
   "cell_type": "code",
   "execution_count": 2,
   "metadata": {},
   "outputs": [],
   "source": [
    "import pandas as pd\n",
    "from sklearn.model_selection import train_test_split\n",
    "from sklearn.impute import SimpleImputer\n",
    "from sklearn.preprocessing import OneHotEncoder, StandardScaler\n",
    "from sklearn.compose import ColumnTransformer\n",
    "from sklearn.pipeline import Pipeline"
   ]
  },
  {
   "cell_type": "code",
   "execution_count": 3,
   "metadata": {},
   "outputs": [],
   "source": [
    "# Load the dataset\n",
    "data = pd.read_csv(\"data/Cleared-Data-Modified.csv\", low_memory=False)"
   ]
  },
  {
   "cell_type": "code",
   "execution_count": 4,
   "metadata": {},
   "outputs": [
    {
     "name": "stdout",
     "output_type": "stream",
     "text": [
      "Index(['Ocular Treatment ID', 'File', 'Age', 'Gender', 'Eye', 'Dominant Eye',\n",
      "       'Pachymetry', 'PRE-OP Average K', 'PRE-OP K Axis max',\n",
      "       'Pre-op K  Axis min', 'Contact Lens', 'Free of CL', 'Free of CL Unit',\n",
      "       'UCVA', 'Subjective SEQ', 'Subjective Sph', 'Subjective Cyl',\n",
      "       'Subjective Cyl Axis', 'Subjective BCVA', 'Cycloplegia Sph',\n",
      "       'Cycloplegia Cyl', 'Cycloplegia Axis', 'Cycloplegia CVA',\n",
      "       'Surgery Date', 'Treatment SEQ', 'Treatment Param Axis', 'Opt Zo',\n",
      "       'Max Abl Depth', 'Treatment Type', 'Humidity', 'Temp', 'Op.Time',\n",
      "       'Micro', 'Ring', 'Stop', 'Head', 'Alchohol', 'PTK mmm', 'MZ sec',\n",
      "       'Therapeutic Cont L', 'Rotation Angle', 'Rotation Angle Degrees',\n",
      "       'Last_Target Sph', 'Last_UCVA', 'Last_Pachymetry', 'Last_Average K',\n",
      "       'Last_Steep Axis min', 'LASTSubjective SEQ', 'Last_Subjective Axis',\n",
      "       'Last_Subjective BCVA'],\n",
      "      dtype='object')\n"
     ]
    }
   ],
   "source": [
    "print(data.columns)"
   ]
  },
  {
   "cell_type": "code",
   "execution_count": 5,
   "metadata": {},
   "outputs": [
    {
     "name": "stdout",
     "output_type": "stream",
     "text": [
      "Null value counts for each specified column:\n",
      "Ocular Treatment ID          0\n",
      "File                         0\n",
      "Age                        411\n",
      "Gender                    1978\n",
      "Eye                          0\n",
      "Dominant Eye               109\n",
      "Pachymetry                3809\n",
      "PRE-OP Average K          9130\n",
      "PRE-OP K Axis max        17611\n",
      "Pre-op K  Axis min       17368\n",
      "Contact Lens             73367\n",
      "Free of CL               64410\n",
      "Free of CL Unit          64888\n",
      "UCVA                      7876\n",
      "Subjective SEQ             697\n",
      "Subjective Sph             737\n",
      "Subjective Cyl            4375\n",
      "Subjective Cyl Axis       3679\n",
      "Subjective BCVA            876\n",
      "Cycloplegia Sph         112880\n",
      "Cycloplegia Cyl         114616\n",
      "Cycloplegia Axis        112873\n",
      "Cycloplegia CVA         121006\n",
      "Surgery Date                 0\n",
      "Treatment SEQ              197\n",
      "Treatment Param Axis     15024\n",
      "Opt Zo                    1838\n",
      "Max Abl Depth             1930\n",
      "Treatment Type               0\n",
      "Humidity                  4777\n",
      "Temp                      4792\n",
      "Op.Time                      0\n",
      "dtype: int64\n"
     ]
    }
   ],
   "source": [
    "# Checking count of null values \n",
    "columns_to_check = ['Ocular Treatment ID', 'File', 'Age', 'Gender', 'Eye', 'Dominant Eye',\n",
    "                    'Pachymetry', 'PRE-OP Average K', 'PRE-OP K Axis max',\n",
    "                    'Pre-op K  Axis min', 'Contact Lens', 'Free of CL', 'Free of CL Unit',\n",
    "                    'UCVA', 'Subjective SEQ', 'Subjective Sph', 'Subjective Cyl', 'Subjective Cyl Axis', 'Subjective BCVA',\n",
    "                    'Cycloplegia Sph', 'Cycloplegia Cyl', 'Cycloplegia Axis',\n",
    "                    'Cycloplegia CVA', 'Surgery Date', 'Treatment SEQ',\n",
    "                    'Treatment Param Axis', 'Opt Zo', 'Max Abl Depth', 'Treatment Type',\n",
    "                    'Humidity', 'Temp', 'Op.Time']\n",
    "\n",
    "# Count null values for each column\n",
    "null_counts = data[columns_to_check].isnull().sum()\n",
    "\n",
    "print(\"Null value counts for each specified column:\")\n",
    "print(null_counts)"
   ]
  },
  {
   "cell_type": "code",
   "execution_count": 6,
   "metadata": {},
   "outputs": [],
   "source": [
    "# Convert \" \" to None in the \"Dominant Eye\" column\n",
    "data[\"Dominant Eye\"] = data[\"Dominant Eye\"].replace(\" \", None)"
   ]
  },
  {
   "cell_type": "code",
   "execution_count": 7,
   "metadata": {},
   "outputs": [],
   "source": [
    "# Handle data where 'Pre-op K Axis min' is NaN and 'PRE-OP K Axis max' is not NaN\n",
    "def fill_pre_op_k_axis_max(df):\n",
    "    # Identify the condition where 'Pre-op K Axis min' is NaN and 'PRE-OP K Axis max' is not NaN\n",
    "    condition = df['Pre-op K  Axis min'].isnull() & df['PRE-OP K Axis max'].notnull()\n",
    "\n",
    "    # Apply vectorized operations to adjust 'Pre-op K Axis min' based on 'PRE-OP K Axis max'\n",
    "    df.loc[condition & (df['PRE-OP K Axis max'] > 90), 'Pre-op K  Axis min'] = df['PRE-OP K Axis max'] - 90\n",
    "    df.loc[condition & (df['PRE-OP K Axis max'] <= 90), 'Pre-op K  Axis min'] = df['PRE-OP K Axis max'] + 90\n",
    "\n",
    "    return df\n",
    "\n",
    "df = fill_pre_op_k_axis_max(data)\n",
    "df = df.drop('PRE-OP K Axis max',axis=1)"
   ]
  },
  {
   "cell_type": "code",
   "execution_count": 8,
   "metadata": {},
   "outputs": [],
   "source": [
    "# This cell will handle the 3 columns of 'Contact Lens', 'Free of CL', 'Free of CL Unit' and merge them into one column while handling null values\n",
    "def HoursToDays(df):\n",
    "    # Vectorized operation to convert hours to days\n",
    "    condition = (df['Free of CL Unit'] == \"Hours\") # | (df['Free of CL Unit'].notnull()) \n",
    "    df.loc[condition, 'Free of CL'] /= 24\n",
    "    return df\n",
    "\n",
    "def normalize_value(row, min_val, max_val):\n",
    "    # Normalize 'Free of CL' value based on lens type\n",
    "    val = row['Free of CL']\n",
    "    if pd.isnull(val): #################################\n",
    "        return 1 \n",
    "    normalized = (val - min_val) / (max_val - min_val)\n",
    "    return min(max(normalized, 0), 1)  # Ensure the normalized value is between 0 and 1\n",
    "\n",
    "def mergeCL(df):\n",
    "    df = HoursToDays(df)  # Convert hours to days first\n",
    "\n",
    "    # Use 'apply' with a custom function for complex logic\n",
    "    def apply_normalization(row):\n",
    "        if row['Contact Lens'] == \"Hard\":\n",
    "            return normalize_value(row, 7, 28)\n",
    "        elif row['Contact Lens'] == \"Soft\":\n",
    "            return normalize_value(row, 3, 7)\n",
    "        else:\n",
    "            return 1  # Default value for other types\n",
    "\n",
    "    df['Merge_Contact Lens'] = df.apply(apply_normalization, axis=1)\n",
    "\n",
    "    # Drop unnecessary columns\n",
    "    df.drop(columns=['Contact Lens', 'Free of CL', 'Free of CL Unit'], inplace=True)\n",
    "\n",
    "    return df\n",
    "\n",
    "df = mergeCL(df)"
   ]
  },
  {
   "cell_type": "code",
   "execution_count": 9,
   "metadata": {},
   "outputs": [],
   "source": [
    "# Update subjective SEQ values based on the columns Cycloplegia Sph and Cycloplegia Cyl\n",
    "def update_subjective_seq(row):\n",
    "    # Check if at least one value is not null between 'Cycloplegia Sph' and 'Cycloplegia Cyl'\n",
    "    if pd.notnull(row['Cycloplegia Sph']) or pd.notnull(row['Cycloplegia Cyl']):\n",
    "        # Check if 'Cycloplegia Sph' is not null and 'Cycloplegia Cyl' is not null\n",
    "        if pd.notnull(row['Cycloplegia Sph']) and pd.notnull(row['Cycloplegia Cyl']):\n",
    "            # Update 'Subjective SEQ' based on 'Cycloplegia Sph' and 'Cycloplegia Cyl'\n",
    "            return row['Cycloplegia Sph'] + 0.5 * row['Cycloplegia Cyl']\n",
    "        # Check if 'Cycloplegia Sph' is null and 'Cycloplegia Cyl' is not null\n",
    "        elif pd.isnull(row['Cycloplegia Sph']) and pd.notnull(row['Cycloplegia Cyl']):\n",
    "            # Update 'Subjective SEQ' based on 'Subjective Sph' and 'Cycloplegia Cyl'\n",
    "            return row['Subjective Sph'] + 0.5 * row['Cycloplegia Cyl']\n",
    "        # Check if 'Cycloplegia Cyl' is null and 'Cycloplegia Sph' is not null\n",
    "        elif pd.isnull(row['Cycloplegia Cyl']) and pd.notnull(row['Cycloplegia Sph']):\n",
    "            # Update 'Subjective SEQ' based on 'Cycloplegia Sph' and 'Subjective Cyl'\n",
    "            return row['Cycloplegia Sph'] + 0.5 * row['Subjective Cyl']\n",
    "    else:\n",
    "        # If neither 'Cycloplegia Sph' nor 'Cycloplegia Cyl' is present, return the existing 'Subjective SEQ' value\n",
    "        return row['Subjective SEQ']\n",
    "\n",
    "# Assuming 'df' is your DataFrame containing the relevant columns\n",
    "df['Subjective SEQ'] = df.apply(update_subjective_seq, axis=1)\n",
    "\n",
    "# Drop the specified columns\n",
    "df.drop(columns=['Cycloplegia Sph', 'Cycloplegia Cyl', 'Subjective Sph', 'Subjective Cyl'], inplace=True)"
   ]
  },
  {
   "cell_type": "code",
   "execution_count": 10,
   "metadata": {},
   "outputs": [],
   "source": [
    " # Update Subjective axis and CVA columns with Cycloplegia axis and cva values where they are not null\n",
    "def MergeSubCycloplegia(df):\n",
    "    cyclo_columns = ['Cycloplegia Axis', 'Cycloplegia CVA'] #################################\n",
    "    subj_columns = ['Subjective Cyl Axis', 'Subjective BCVA'] #################################\n",
    "\n",
    "    for cyclo, subj in zip(cyclo_columns, subj_columns):\n",
    "        condition = df[cyclo].notnull()\n",
    "        df.loc[condition, subj] = df.loc[condition, cyclo]\n",
    "\n",
    "    # Drop the original 'Cycloplegia' columns\n",
    "    df.drop(columns=cyclo_columns, inplace=True)\n",
    "\n",
    "    return df\n",
    "\n",
    "df = MergeSubCycloplegia(df)"
   ]
  },
  {
   "cell_type": "code",
   "execution_count": 11,
   "metadata": {},
   "outputs": [
    {
     "name": "stdout",
     "output_type": "stream",
     "text": [
      "Number of rows with null values in Rotation Angle after nulling values: 60\n",
      "Number of rows with 'CW' in Rotation Angle after filling values: 6\n"
     ]
    }
   ],
   "source": [
    "# Print the counts for both conditions\n",
    "print(\"Number of rows with null values in Rotation Angle after nulling values:\", \n",
    "      ((df['Rotation Angle Degrees'].isnull()) & (df['Rotation Angle'].notnull())).sum())\n",
    "\n",
    "print(\"Number of rows with 'CW' in Rotation Angle after filling values:\", \n",
    "      ((df['Rotation Angle'].isnull()) & (df['Rotation Angle Degrees'].notnull())).sum())\n",
    "\n",
    "# Null the values of Rotation Angle where Rotation Angle Degrees is null and Rotation Angle is not null\n",
    "df.loc[df['Rotation Angle Degrees'].isnull() & df['Rotation Angle'].notnull(), 'Rotation Angle'] = pd.NA\n",
    "\n",
    "# Fill Rotation Angle with \"CW\" where Rotation Angle is null and Rotation Angle Degrees is not null\n",
    "df.loc[df['Rotation Angle'].isnull() & df['Rotation Angle Degrees'].notnull(), 'Rotation Angle'] = \"CW\""
   ]
  },
  {
   "cell_type": "code",
   "execution_count": 12,
   "metadata": {},
   "outputs": [],
   "source": [
    "# This cell merge the columns Rotation Angle and Rotation Angle Degrees (CW and CCW)\n",
    "def LaserRotationMerge(df):\n",
    "    # Identify rows where 'Rotation Angle' is 'CCW' and 'Rotation Angle Degrees' is not null\n",
    "    condition = (df['Rotation Angle'] == 'CCW') & df['Rotation Angle Degrees'].notnull()\n",
    "\n",
    "    # Multiply 'Rotation Angle Degrees' by -1 for rows that meet the condition\n",
    "    df.loc[condition, 'Rotation Angle Degrees'] *= -1\n",
    "\n",
    "    # Drop the 'Rotation Angle' column\n",
    "    df.drop('Rotation Angle', axis=1, inplace=True)\n",
    "\n",
    "    return df\n",
    "\n",
    "df = LaserRotationMerge(df)"
   ]
  },
  {
   "cell_type": "code",
   "execution_count": 13,
   "metadata": {},
   "outputs": [],
   "source": [
    "# Remove rows where last ucva (target label) is null and tratement type equal to zeiss premium\n",
    "df = df[df['Last_UCVA'].notnull()]\n",
    "df = df[df['Treatment Type'] != \"Zeiss Premium\"]\n",
    "\n",
    "# Data Cleaning - Remove rows with missing target values\n",
    "df = df[df['Last_UCVA'] <= 1.6]\n",
    "\n",
    "# remove the rows with extreme values\n",
    "df = df[df['UCVA'] <= 1.6]\n",
    "df = df[df['Subjective BCVA'] <= 1.6]"
   ]
  },
  {
   "cell_type": "code",
   "execution_count": 14,
   "metadata": {},
   "outputs": [
    {
     "name": "stderr",
     "output_type": "stream",
     "text": [
      "/var/folders/1t/bbl6pwb16n501zzycpfhlml00000gn/T/ipykernel_2827/683481647.py:29: UserWarning: Parsing dates in %d/%m/%Y format when dayfirst=False (the default) was specified. Pass `dayfirst=True` or specify a format to silence this warning.\n",
      "  df['Surgery Month'] = pd.to_datetime(df['Surgery Date']).dt.month\n",
      "/var/folders/1t/bbl6pwb16n501zzycpfhlml00000gn/T/ipykernel_2827/683481647.py:30: UserWarning: Parsing dates in %d/%m/%Y format when dayfirst=False (the default) was specified. Pass `dayfirst=True` or specify a format to silence this warning.\n",
      "  df['Surgery Year'] = pd.to_datetime(df['Surgery Date']).dt.year\n"
     ]
    }
   ],
   "source": [
    "# Handling the surgery date column\n",
    "# Define a function to map the season based on the month\n",
    "def map_season(month):\n",
    "    if month in [3, 4, 5]:  # Spring: March (3) to May (5)\n",
    "        return 1\n",
    "    elif month in [6, 7, 8]:  # Summer: June (6) to August (8)\n",
    "        return 2\n",
    "    elif month in [9, 10, 11]:  # Fall: September (9) to November (11)\n",
    "        return 3\n",
    "    else:  # Winter: December (12) to February (2)\n",
    "        return 4\n",
    "    \n",
    "# Define a function to map the year range based on the era\n",
    "def map_era(year):\n",
    "    if year >= 2000 and year <= 2005:\n",
    "        return 1\n",
    "    elif year >= 2006 and year <= 2010:\n",
    "        return 2\n",
    "    elif year >= 2011 and year <= 2015:\n",
    "        return 3\n",
    "    elif year >= 2016 and year <= 2020:\n",
    "        return 4\n",
    "    elif year >= 2021 and year <= 2022:\n",
    "        return 5\n",
    "    else:\n",
    "        return 0  # Default value if the year doesn't fall into any era\n",
    "    \n",
    "# Extract month and year from 'Surgery Date'\n",
    "df['Surgery Month'] = pd.to_datetime(df['Surgery Date']).dt.month\n",
    "df['Surgery Year'] = pd.to_datetime(df['Surgery Date']).dt.year\n",
    "\n",
    "# Map season and year range\n",
    "df['Season'] = df['Surgery Month'].apply(map_season)\n",
    "df['Era'] = df['Surgery Year'].apply(map_era)\n",
    "\n",
    "# Drop the 'Surgery Date', 'Surgery Month', and 'Surgery Year' columns\n",
    "# df.drop(columns=['Surgery Date', 'Surgery Month', 'Surgery Year'], inplace=True)\n",
    "df.drop(columns=['Surgery Month', 'Surgery Year'], inplace=True)"
   ]
  },
  {
   "cell_type": "code",
   "execution_count": 15,
   "metadata": {},
   "outputs": [
    {
     "name": "stdout",
     "output_type": "stream",
     "text": [
      "Unique Treatment Types and row counts for non-null values in 'Micro':\n",
      "- Femto Lasik: 5 rows\n",
      "- Lasik: 38127 rows\n",
      "- PRK: 62 rows\n",
      "\n",
      "Unique Treatment Types and row counts for non-null values in 'Ring':\n",
      "- Femto Lasik: 7 rows\n",
      "- Lasik: 41524 rows\n",
      "- PRK: 44 rows\n",
      "\n",
      "Unique Treatment Types and row counts for non-null values in 'Stop':\n",
      "- Femto Lasik: 7 rows\n",
      "- Lasik: 38967 rows\n",
      "- PRK: 33 rows\n",
      "\n",
      "Unique Treatment Types and row counts for non-null values in 'Head':\n",
      "- Femto Lasik: 4 rows\n",
      "- Lasik: 41637 rows\n",
      "- PRK: 19 rows\n",
      "\n",
      "Unique Treatment Types and row counts for non-null values in 'Alchohol':\n",
      "- Femto Lasik: 5 rows\n",
      "- Lasik: 4 rows\n",
      "- PRK: 52739 rows\n",
      "\n",
      "Unique Treatment Types and row counts for non-null values in 'PTK mmm':\n",
      "- Lasik: 3 rows\n",
      "- PRK: 7530 rows\n",
      "\n",
      "Unique Treatment Types and row counts for non-null values in 'MZ sec':\n",
      "- Femto Lasik: 5 rows\n",
      "- Lasik: 7 rows\n",
      "- PRK: 59769 rows\n",
      "\n",
      "Unique Treatment Types and row counts for non-null values in 'Therapeutic Cont L':\n",
      "- Femto Lasik: 3279 rows\n",
      "- Lasik: 34768 rows\n",
      "- PRK: 60035 rows\n",
      "\n",
      "Unique Treatment Types and row counts for non-null values in 'Rotation Angle Degrees':\n",
      "- Femto Lasik: 1924 rows\n",
      "- Lasik: 8872 rows\n",
      "- PRK: 18683 rows\n",
      "\n"
     ]
    }
   ],
   "source": [
    "columns = ['Micro', 'Ring', 'Stop', 'Head', 'Alchohol', 'PTK mmm', 'MZ sec', 'Therapeutic Cont L', 'Rotation Angle Degrees']\n",
    "\n",
    "\n",
    "for col in columns:\n",
    "    # Filter the DataFrame for non-null values in the current column\n",
    "    filtered_df = df[df[col].notnull()]\n",
    "    \n",
    "    # Group the filtered DataFrame by 'Treatment Type' and count the rows for each group\n",
    "    grouped_counts = filtered_df.groupby('Treatment Type').size()\n",
    "    \n",
    "    # Print the unique Treatment Types and their corresponding row counts\n",
    "    print(f\"Unique Treatment Types and row counts for non-null values in '{col}':\")\n",
    "    for treatment_type, count in grouped_counts.items():\n",
    "        print(f\"- {treatment_type}: {count} rows\")\n",
    "    print()  # Add a new line for readability"
   ]
  },
  {
   "cell_type": "code",
   "execution_count": 16,
   "metadata": {},
   "outputs": [
    {
     "name": "stdout",
     "output_type": "stream",
     "text": [
      "Pachymetry             2247\n",
      "PRE-OP Average K       5066\n",
      "Pre-op K  Axis min     9271\n",
      "Subjective SEQ          189\n",
      "Subjective Cyl Axis    1511\n",
      "Subjective BCVA           0\n",
      "UCVA                      0\n",
      "dtype: int64\n",
      "Number of rows where Pachymetry is null and Last_Pachymetry is not null: 684\n",
      "Number of rows where PRE-OP Average K is null and Last_Average K is not null: 1476\n",
      "Number of rows where Pre-op K  Axis min is null and Last_Steep Axis min is not null: 2411\n",
      "Number of rows where Subjective SEQ is null and LASTSubjective SEQ is not null: 111\n",
      "Number of rows where Subjective Cyl Axis is null and Last_Subjective Axis is not null: 626\n",
      "Number of rows where Subjective BCVA is null and Last_Subjective BCVA is not null: 0\n",
      "Number of rows where UCVA is null and Last_UCVA is not null: 0\n"
     ]
    }
   ],
   "source": [
    "# Count null values in each column that needs to be filled\n",
    "null_counts = df[['Pachymetry', 'PRE-OP Average K', 'Pre-op K  Axis min', \n",
    "                  'Subjective SEQ', 'Subjective Cyl Axis', 'Subjective BCVA', 'UCVA']].isnull().sum()\n",
    "print(null_counts)\n",
    "# List of columns to fill null values\n",
    "columns_to_fill = ['Pachymetry', 'PRE-OP Average K', 'Pre-op K  Axis min', \n",
    "                   'Subjective SEQ', 'Subjective Cyl Axis', 'Subjective BCVA', 'UCVA']\n",
    "\n",
    "# List of corresponding help columns\n",
    "help_columns = ['Last_Pachymetry', 'Last_Average K', 'Last_Steep Axis min', \n",
    "                'LASTSubjective SEQ', 'Last_Subjective Axis', 'Last_Subjective BCVA', 'Last_UCVA']\n",
    "\n",
    "# Iterate over each column to be filled and its corresponding help column\n",
    "for col_fill, col_help in zip(columns_to_fill, help_columns):\n",
    "    # Count rows where the column to fill has null values and the help column has non-null values\n",
    "    count = df[df[col_fill].isnull() & df[col_help].notnull()].shape[0]\n",
    "    print(f\"Number of rows where {col_fill} is null and {col_help} is not null:\", count)\n",
    "\n"
   ]
  },
  {
   "cell_type": "code",
   "execution_count": 17,
   "metadata": {},
   "outputs": [
    {
     "name": "stdout",
     "output_type": "stream",
     "text": [
      "Average Differences:\n",
      "Last_Pachymetry        -73.873269\n",
      "Last_Average K          -3.396732\n",
      "Last_Steep Axis min     -2.125147\n",
      "LASTSubjective SEQ       3.427241\n",
      "Last_Subjective Axis   -25.150581\n",
      "dtype: float64\n"
     ]
    }
   ],
   "source": [
    "differences_df = pd.DataFrame()\n",
    "\n",
    "# # List of before-surgery columns\n",
    "# before_surgery_columns = ['Pachymetry', 'PRE-OP Average K', 'Pre-op K  Axis min', \n",
    "#                           'Subjective SEQ', 'Subjective Cyl Axis', 'Subjective BCVA', 'UCVA']\n",
    "\n",
    "# # List of after-surgery columns\n",
    "# after_surgery_columns = ['Last_Pachymetry', 'Last_Average K', 'Last_Steep Axis min', \n",
    "#                          'LASTSubjective SEQ', 'Last_Subjective Axis', 'Last_Subjective BCVA', 'Last_UCVA']\n",
    "\n",
    "# List of before-surgery columns\n",
    "before_surgery_columns = ['Pachymetry', 'PRE-OP Average K', 'Pre-op K  Axis min', \n",
    "                          'Subjective SEQ', 'Subjective Cyl Axis']\n",
    "\n",
    "# List of after-surgery columns\n",
    "after_surgery_columns = ['Last_Pachymetry', 'Last_Average K', 'Last_Steep Axis min', \n",
    "                         'LASTSubjective SEQ', 'Last_Subjective Axis']\n",
    "\n",
    "# Iterate over pairs of before-surgery and after-surgery columns\n",
    "for before_col, after_col in zip(before_surgery_columns, after_surgery_columns):\n",
    "    # Calculate the difference between after-surgery and before-surgery values\n",
    "    differences_df[after_col] = df[after_col] - df[before_col]\n",
    "\n",
    "# Calculate the average difference for each after-surgery column\n",
    "average_differences = differences_df.mean()\n",
    "\n",
    "# Print the average differences and overall change\n",
    "print(\"Average Differences:\")\n",
    "print(average_differences)\n",
    "\n",
    "# Fill null values in before-surgery columns using calculated differences\n",
    "for before_col, after_col in zip(before_surgery_columns, after_surgery_columns):\n",
    "    # Identify rows where the after-surgery column is not null\n",
    "    not_null_mask = df[after_col].notnull()\n",
    "\n",
    "    # Calculate the imputed values using the average difference\n",
    "    imputed_values = df[after_col][not_null_mask] - average_differences[after_col]\n",
    "\n",
    "    # Update null values in the before-surgery column with imputed values\n",
    "    df.loc[df[before_col].isnull() & not_null_mask, before_col] = imputed_values\n",
    "    \n",
    "# List of after-surgery columns to drop\n",
    "after_surgery_columns_to_drop = [col for col in after_surgery_columns if col != 'Last_UCVA']\n",
    "\n",
    "# Drop the after-surgery columns except 'Last_UCVA' from the DataFrame\n",
    "df.drop(after_surgery_columns_to_drop, axis=1, inplace=True)\n",
    "\n",
    "df.drop('Last_Subjective BCVA', axis=1, inplace=True)"
   ]
  },
  {
   "cell_type": "code",
   "execution_count": 18,
   "metadata": {},
   "outputs": [],
   "source": [
    "# Calculate the average temperature and humidity for each season\n",
    "average_temp_by_season = df.groupby('Season')['Temp'].mean()\n",
    "average_humidity_by_season = df.groupby('Season')['Humidity'].mean()\n",
    "\n",
    "\n",
    "# Fill in missing 'Temp' values based on the average temperature for each season\n",
    "for season in range(1, 5):\n",
    "    df.loc[df['Season'] == season, 'Temp'] = df.loc[df['Season'] == season, 'Temp'].fillna(average_temp_by_season[season])\n",
    "    df.loc[df['Season'] == season, 'Humidity'] = df.loc[df['Season'] == season, 'Humidity'].fillna(average_humidity_by_season[season])"
   ]
  },
  {
   "cell_type": "code",
   "execution_count": 19,
   "metadata": {},
   "outputs": [
    {
     "name": "stdout",
     "output_type": "stream",
     "text": [
      "Null value counts for each specified column:\n",
      "Ocular Treatment ID           0\n",
      "File                          0\n",
      "Age                         154\n",
      "Gender                     1013\n",
      "Eye                           0\n",
      "Dominant Eye              22849\n",
      "Pachymetry                 1563\n",
      "PRE-OP Average K           3590\n",
      "Pre-op K  Axis min         6860\n",
      "UCVA                          0\n",
      "Subjective SEQ               78\n",
      "Subjective Cyl Axis         885\n",
      "Subjective BCVA               0\n",
      "Surgery Date                  0\n",
      "Treatment SEQ                62\n",
      "Treatment Param Axis      11521\n",
      "Opt Zo                      770\n",
      "Max Abl Depth              1136\n",
      "Treatment Type                0\n",
      "Humidity                      0\n",
      "Temp                          0\n",
      "Op.Time                       0\n",
      "Micro                     69144\n",
      "Ring                      65763\n",
      "Stop                      68331\n",
      "Head                      65678\n",
      "Alchohol                  54590\n",
      "PTK mmm                   99805\n",
      "MZ sec                    47557\n",
      "Therapeutic Cont L         9256\n",
      "Rotation Angle Degrees    77859\n",
      "Last_Target Sph               0\n",
      "Last_UCVA                     0\n",
      "Merge_Contact Lens            0\n",
      "Season                        0\n",
      "Era                           0\n",
      "dtype: int64\n"
     ]
    }
   ],
   "source": [
    "null_counts = df.isnull().sum()\n",
    "\n",
    "print(\"Null value counts for each specified column:\")\n",
    "print(null_counts)"
   ]
  },
  {
   "cell_type": "code",
   "execution_count": 20,
   "metadata": {},
   "outputs": [],
   "source": [
    "# List of columns to fill with mean value\n",
    "columns_to_fill_mean = ['Age', 'Pachymetry', 'PRE-OP Average K', 'Subjective SEQ',\n",
    "                        'Subjective Cyl Axis', 'Subjective BCVA', 'Treatment SEQ',\n",
    "                        'Opt Zo', 'Max Abl Depth', 'Humidity', 'Temp']\n",
    "\n",
    "# List of columns to fill with mode value\n",
    "columns_to_fill_mode = ['Gender', 'Dominant Eye']\n",
    "\n",
    "# Fill axis with value of 0\n",
    "df['Rotation Angle Degrees'] = df['Rotation Angle Degrees'].fillna(0)\n",
    "df['Pre-op K  Axis min'] = df['Pre-op K  Axis min'].fillna(0)\n",
    "df['Treatment Param Axis'] = df['Treatment Param Axis'].fillna(0)\n",
    "\n",
    "# Fill numerical columns with mean value\n",
    "df[columns_to_fill_mean] = df[columns_to_fill_mean].fillna(df[columns_to_fill_mean].mean())\n",
    "\n",
    "# Fill categorical columns with mode value\n",
    "df[columns_to_fill_mode] = df[columns_to_fill_mode].fillna(df[columns_to_fill_mode].mode().iloc[0])"
   ]
  },
  {
   "cell_type": "code",
   "execution_count": 21,
   "metadata": {},
   "outputs": [],
   "source": [
    "average_values = {}\n",
    "for column in ['Micro', 'Head']:\n",
    "    average_values[column] = df[column].mode().iloc[0]\n",
    "for column in ['Ring', 'Stop', 'Alchohol', 'PTK mmm', 'MZ sec']:\n",
    "    average_values[column] = df[column].mean()   \n",
    "\n",
    "for column in ['Micro', 'Ring', 'Stop', 'Head']:\n",
    "    df.loc[(df['Treatment Type'] == 'Lasik') & (df[column].isnull()), column] = average_values[column] \n",
    "    if column in ['Micro', 'Head']:\n",
    "        df.loc[(df['Treatment Type'] != 'Lasik') & (df[column].isnull()), column] = \"Unknown\"\n",
    "    else:\n",
    "        df.loc[(df['Treatment Type'] != 'Lasik') & (df[column].isnull()), column] = -2\n",
    "\n",
    "for column in ['Alchohol', 'PTK mmm', 'MZ sec']:\n",
    "    df.loc[(df['Treatment Type'] == 'PRK') & (df[column].isnull()), column] = average_values[column] \n",
    "    df.loc[(df['Treatment Type'] != 'PRK') & (df[column].isnull()), column] = -2\n",
    "\n",
    "\n",
    "# print(average_values)"
   ]
  },
  {
   "cell_type": "code",
   "execution_count": 22,
   "metadata": {},
   "outputs": [
    {
     "name": "stderr",
     "output_type": "stream",
     "text": [
      "/var/folders/1t/bbl6pwb16n501zzycpfhlml00000gn/T/ipykernel_2827/2362954213.py:2: FutureWarning: A value is trying to be set on a copy of a DataFrame or Series through chained assignment using an inplace method.\n",
      "The behavior will change in pandas 3.0. This inplace method will never work because the intermediate object on which we are setting values always behaves as a copy.\n",
      "\n",
      "For example, when doing 'df[col].method(value, inplace=True)', try using 'df.method({col: value}, inplace=True)' or df[col] = df[col].method(value) instead, to perform the operation inplace on the original object.\n",
      "\n",
      "\n",
      "  df['Therapeutic Cont L'].fillna('Yes', inplace=True)\n"
     ]
    }
   ],
   "source": [
    "df.loc[(df['Merge_Contact Lens'] == 1) & (df['Therapeutic Cont L'].isnull()), 'Therapeutic Cont L'] = \"No\"\n",
    "df['Therapeutic Cont L'].fillna('Yes', inplace=True)"
   ]
  },
  {
   "cell_type": "code",
   "execution_count": 23,
   "metadata": {},
   "outputs": [
    {
     "name": "stdout",
     "output_type": "stream",
     "text": [
      "Null value counts for each specified column:\n",
      "Ocular Treatment ID       0\n",
      "File                      0\n",
      "Age                       0\n",
      "Gender                    0\n",
      "Eye                       0\n",
      "Dominant Eye              0\n",
      "Pachymetry                0\n",
      "PRE-OP Average K          0\n",
      "Pre-op K  Axis min        0\n",
      "UCVA                      0\n",
      "Subjective SEQ            0\n",
      "Subjective Cyl Axis       0\n",
      "Subjective BCVA           0\n",
      "Surgery Date              0\n",
      "Treatment SEQ             0\n",
      "Treatment Param Axis      0\n",
      "Opt Zo                    0\n",
      "Max Abl Depth             0\n",
      "Treatment Type            0\n",
      "Humidity                  0\n",
      "Temp                      0\n",
      "Op.Time                   0\n",
      "Micro                     0\n",
      "Ring                      0\n",
      "Stop                      0\n",
      "Head                      0\n",
      "Alchohol                  0\n",
      "PTK mmm                   0\n",
      "MZ sec                    0\n",
      "Therapeutic Cont L        0\n",
      "Rotation Angle Degrees    0\n",
      "Last_Target Sph           0\n",
      "Last_UCVA                 0\n",
      "Merge_Contact Lens        0\n",
      "Season                    0\n",
      "Era                       0\n",
      "dtype: int64\n"
     ]
    }
   ],
   "source": [
    "null_counts = df.isnull().sum()\n",
    "\n",
    "print(\"Null value counts for each specified column:\")\n",
    "print(null_counts)"
   ]
  },
  {
   "cell_type": "code",
   "execution_count": 24,
   "metadata": {},
   "outputs": [],
   "source": [
    "df.to_csv('data/processed_data_with_date.csv', index=False)"
   ]
  }
 ],
 "metadata": {
  "kernelspec": {
   "display_name": "Python 3",
   "language": "python",
   "name": "python3"
  },
  "language_info": {
   "codemirror_mode": {
    "name": "ipython",
    "version": 3
   },
   "file_extension": ".py",
   "mimetype": "text/x-python",
   "name": "python",
   "nbconvert_exporter": "python",
   "pygments_lexer": "ipython3",
   "version": "3.10.0"
  }
 },
 "nbformat": 4,
 "nbformat_minor": 2
}
